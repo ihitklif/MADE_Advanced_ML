{
 "cells": [
  {
   "cell_type": "code",
   "execution_count": 1,
   "metadata": {},
   "outputs": [],
   "source": [
    "import numpy as np\n",
    "import pandas as pd\n",
    "import matplotlib.pyplot as plt"
   ]
  },
  {
   "cell_type": "code",
   "execution_count": 2,
   "metadata": {},
   "outputs": [
    {
     "data": {
      "text/html": [
       "<div>\n",
       "<style scoped>\n",
       "    .dataframe tbody tr th:only-of-type {\n",
       "        vertical-align: middle;\n",
       "    }\n",
       "\n",
       "    .dataframe tbody tr th {\n",
       "        vertical-align: top;\n",
       "    }\n",
       "\n",
       "    .dataframe thead th {\n",
       "        text-align: right;\n",
       "    }\n",
       "</style>\n",
       "<table border=\"1\" class=\"dataframe\">\n",
       "  <thead>\n",
       "    <tr style=\"text-align: right;\">\n",
       "      <th></th>\n",
       "      <th>nday</th>\n",
       "      <th>date</th>\n",
       "      <th>total_cases</th>\n",
       "      <th>new_cases</th>\n",
       "    </tr>\n",
       "  </thead>\n",
       "  <tbody>\n",
       "    <tr>\n",
       "      <th>0</th>\n",
       "      <td>0</td>\n",
       "      <td>2020-03-03</td>\n",
       "      <td>3</td>\n",
       "      <td>1</td>\n",
       "    </tr>\n",
       "    <tr>\n",
       "      <th>1</th>\n",
       "      <td>1</td>\n",
       "      <td>2020-03-04</td>\n",
       "      <td>4</td>\n",
       "      <td>1</td>\n",
       "    </tr>\n",
       "    <tr>\n",
       "      <th>2</th>\n",
       "      <td>2</td>\n",
       "      <td>2020-03-05</td>\n",
       "      <td>4</td>\n",
       "      <td>0</td>\n",
       "    </tr>\n",
       "  </tbody>\n",
       "</table>\n",
       "</div>"
      ],
      "text/plain": [
       "   nday        date  total_cases  new_cases\n",
       "0     0  2020-03-03            3          1\n",
       "1     1  2020-03-04            4          1\n",
       "2     2  2020-03-05            4          0"
      ]
     },
     "execution_count": 2,
     "metadata": {},
     "output_type": "execute_result"
    }
   ],
   "source": [
    "df = pd.read_csv('covid-russia.csv')\n",
    "df.head(3)"
   ]
  },
  {
   "cell_type": "code",
   "execution_count": 3,
   "metadata": {},
   "outputs": [
    {
     "data": {
      "image/png": "[encoded data removed]",
      "text/plain": [
       "<Figure size 504x504 with 1 Axes>"
      ]
     },
     "metadata": {
      "needs_background": "light"
     },
     "output_type": "display_data"
    }
   ],
   "source": [
    "fig, ax = plt.subplots(figsize=(7,7))\n",
    "ax.plot(df['nday'].values, df['total_cases'].values, color='blue')\n",
    "ax.set(xlabel='day', title='Num of sick people')\n",
    "ax.grid()\n",
    "plt.show()"
   ]
  },
  {
   "cell_type": "markdown",
   "metadata": {},
   "source": [
    "### Обучим модель с экспоненциальным числом заболевших"
   ]
  },
  {
   "cell_type": "markdown",
   "metadata": {},
   "source": [
    "$$ y \\sim \\exp (\\alpha \\cdot x+\\beta) \\Leftrightarrow \\ln y \\sim \\alpha \\cdot x+\\beta$$"
   ]
  },
  {
   "cell_type": "code",
   "execution_count": 4,
   "metadata": {},
   "outputs": [],
   "source": [
    "from sklearn.linear_model import LinearRegression"
   ]
  },
  {
   "cell_type": "code",
   "execution_count": 5,
   "metadata": {},
   "outputs": [],
   "source": [
    "df['total_cases_log'] = np.log(df['total_cases'])"
   ]
  },
  {
   "cell_type": "code",
   "execution_count": 6,
   "metadata": {},
   "outputs": [],
   "source": [
    "df['nday'] = df['nday'] + 1"
   ]
  },
  {
   "cell_type": "code",
   "execution_count": 7,
   "metadata": {},
   "outputs": [],
   "source": [
    "train = df[:50]\n",
    "test = df[50:]"
   ]
  },
  {
   "cell_type": "code",
   "execution_count": 8,
   "metadata": {},
   "outputs": [
    {
     "name": "stdout",
     "output_type": "stream",
     "text": [
      "Alpha = 0.2033, Beta = 1.2757\n"
     ]
    }
   ],
   "source": [
    "lr = LinearRegression()\n",
    "lr.fit(train['nday'].values.reshape(-1, 1), train['total_cases_log'].values)\n",
    "print(\"Alpha = %.4f, Beta = %.4f\" % (lr.coef_[0], lr.intercept_))"
   ]
  },
  {
   "cell_type": "markdown",
   "metadata": {},
   "source": [
    "### Воспользуемся Байесовской библиотекой для семплинга Pystan"
   ]
  },
  {
   "cell_type": "code",
   "execution_count": 9,
   "metadata": {},
   "outputs": [],
   "source": [
    "import pystan"
   ]
  },
  {
   "cell_type": "code",
   "execution_count": 19,
   "metadata": {},
   "outputs": [],
   "source": [
    "model = \"\"\"\n",
    "data {\n",
    "    int<lower=0> N;\n",
    "    vector[N] x;\n",
    "    vector[N] y;\n",
    "\n",
    "    int<lower=0> N_new;\n",
    "    vector[N_new] x_new;\n",
    "}\n",
    "parameters {\n",
    "    real alpha;\n",
    "    real beta;\n",
    "    real<lower=0> sigma;\n",
    "}\n",
    "model {\n",
    "    y ~ normal(alpha * x + beta, sigma);\n",
    "}\n",
    "generated quantities {\n",
    "        vector[N_new] y_new;\n",
    "        y_new = alpha * x_new + beta;      \n",
    "}\n",
    "\"\"\""
   ]
  },
  {
   "cell_type": "code",
   "execution_count": 20,
   "metadata": {},
   "outputs": [],
   "source": [
    "alpha = lr.coef_[0]\n",
    "beta = lr.intercept_\n",
    "sigma = 1.0"
   ]
  },
  {
   "cell_type": "code",
   "execution_count": 22,
   "metadata": {
    "scrolled": true
   },
   "outputs": [
    {
     "name": "stderr",
     "output_type": "stream",
     "text": [
      "INFO:pystan:COMPILING THE C++ CODE FOR MODEL anon_model_f586f50cb8b28ab7da2214e5800a983b NOW.\n",
      "/anaconda3/lib/python3.7/site-packages/Cython/Compiler/Main.py:369: FutureWarning: Cython directive 'language_level' not set, using 2 for now (Py2). This will change in a later release! File: /var/folders/2c/ssfd22r166x8hgqvwvgvf6h40000gn/T/tmpvmkkq0hk/stanfit4anon_model_f586f50cb8b28ab7da2214e5800a983b_6467582782891906997.pyx\n",
      "  tree = Parsing.p_module(s, pxd, full_module_name)\n"
     ]
    }
   ],
   "source": [
    "# Put our data in a dictionary\n",
    "data = {'N': train.shape[0], \n",
    "        'x': train['nday'].values, \n",
    "        'y': train['total_cases_log'],\n",
    "        'N_new': df.shape[0],\n",
    "        'x_new': df['nday'].values, \n",
    "       }\n",
    "\n",
    "# Compile the model\n",
    "sm = pystan.StanModel(model_code=model)\n",
    "\n",
    "# Train the model and generate samples\n",
    "fit = sm.sampling(data=data, iter=1000, chains=4, warmup=500, thin=1, seed=101)"
   ]
  },
  {
   "cell_type": "code",
   "execution_count": 16,
   "metadata": {},
   "outputs": [],
   "source": [
    "# для проверки, что цепи сошлись\n",
    "# import stan_utility\n",
    "# stan_utility.check_all_diagnostics(fit)"
   ]
  },
  {
   "cell_type": "code",
   "execution_count": 23,
   "metadata": {
    "scrolled": true
   },
   "outputs": [
    {
     "name": "stdout",
     "output_type": "stream",
     "text": [
      "Inference for Stan model: anon_model_f586f50cb8b28ab7da2214e5800a983b.\n",
      "4 chains, each with iter=1000; warmup=500; thin=1; \n",
      "post-warmup draws per chain=500, total post-warmup draws=2000.\n",
      "\n",
      "            mean se_mean     sd   2.5%    25%    50%    75%  97.5%  n_eff   Rhat\n",
      "alpha        0.2  1.3e-4 3.9e-3    0.2    0.2    0.2   0.21   0.21    987    1.0\n",
      "beta        1.28  3.9e-3   0.12   1.05    1.2   1.27   1.35   1.51    903   1.01\n",
      "sigma       0.38  1.3e-3   0.04   0.31   0.35   0.37    0.4   0.46    942    1.0\n",
      "y_new[0]    1.48  3.7e-3   0.11   1.26   1.41   1.48   1.55   1.71    905   1.01\n",
      "y_new[1]    1.68  3.6e-3   0.11   1.47   1.61   1.68   1.75    1.9    907   1.01\n",
      "y_new[2]    1.89  3.5e-3   0.11   1.68   1.82   1.88   1.96    2.1    910   1.01\n",
      "y_new[3]    2.09  3.4e-3    0.1   1.89   2.02   2.09   2.16   2.29    913   1.01\n",
      "y_new[4]    2.29  3.3e-3    0.1    2.1   2.23   2.29   2.36   2.49    917   1.01\n",
      "y_new[5]     2.5  3.1e-3    0.1   2.31   2.43   2.49   2.56   2.69    922   1.01\n",
      "y_new[6]     2.7  3.0e-3   0.09   2.52   2.64    2.7   2.76   2.88    928   1.01\n",
      "y_new[7]     2.9  2.9e-3   0.09   2.73   2.85    2.9   2.96   3.08    935   1.01\n",
      "y_new[8]    3.11  2.8e-3   0.09   2.94   3.05   3.11   3.16   3.28    944   1.01\n",
      "y_new[9]    3.31  2.7e-3   0.08   3.15   3.26   3.31   3.36   3.47    954   1.01\n",
      "y_new[10]   3.51  2.6e-3   0.08   3.36   3.46   3.51   3.56   3.67    966   1.01\n",
      "y_new[11]   3.72  2.5e-3   0.08   3.56   3.67   3.71   3.77   3.87    981   1.01\n",
      "y_new[12]   3.92  2.3e-3   0.07   3.77   3.87   3.92   3.97   4.07    999   1.01\n",
      "y_new[13]   4.12  2.2e-3   0.07   3.98   4.08   4.12   4.17   4.27   1020   1.01\n",
      "y_new[14]   4.33  2.1e-3   0.07   4.19   4.28   4.33   4.37   4.46   1044   1.01\n",
      "y_new[15]   4.53  2.0e-3   0.07    4.4   4.49   4.53   4.57   4.66   1072   1.01\n",
      "y_new[16]   4.73  1.9e-3   0.06   4.61   4.69   4.73   4.77   4.86   1107   1.01\n",
      "y_new[17]   4.93  1.8e-3   0.06   4.81   4.89   4.94   4.98   5.06   1148   1.01\n",
      "y_new[18]   5.14  1.7e-3   0.06   5.02    5.1   5.14   5.18   5.26   1198   1.01\n",
      "y_new[19]   5.34  1.6e-3   0.06   5.23    5.3   5.34   5.38   5.45   1257   1.01\n",
      "y_new[20]   5.54  1.6e-3   0.06   5.43   5.51   5.55   5.58   5.65   1328    1.0\n",
      "y_new[21]   5.75  1.4e-3   0.06   5.63   5.71   5.75   5.78   5.86   1476    1.0\n",
      "y_new[22]   5.95  1.4e-3   0.05   5.84   5.92   5.95   5.99   6.06   1579    1.0\n",
      "y_new[23]   6.15  1.3e-3   0.05   6.05   6.12   6.15   6.19   6.26   1696    1.0\n",
      "y_new[24]   6.36  1.2e-3   0.05   6.25   6.32   6.36   6.39   6.46   1819    1.0\n",
      "y_new[25]   6.56  1.2e-3   0.05   6.45   6.53   6.56    6.6   6.66   2000    1.0\n",
      "y_new[26]   6.76  1.2e-3   0.05   6.66   6.73   6.76    6.8   6.87   2000    1.0\n",
      "y_new[27]   6.97  1.2e-3   0.05   6.86   6.93   6.97    7.0   7.07   2000    1.0\n",
      "y_new[28]   7.17  1.2e-3   0.05   7.06   7.13   7.17   7.21   7.28   2000    1.0\n",
      "y_new[29]   7.37  1.2e-3   0.05   7.27   7.34   7.37   7.41   7.48   2000    1.0\n",
      "y_new[30]   7.58  1.3e-3   0.06   7.47   7.54   7.58   7.61   7.69   2000    1.0\n",
      "y_new[31]   7.78  1.3e-3   0.06   7.67   7.74   7.78   7.82   7.89   2000    1.0\n",
      "y_new[32]   7.98  1.3e-3   0.06   7.87   7.94   7.98   8.02    8.1   2000    1.0\n",
      "y_new[33]   8.19  1.4e-3   0.06   8.07   8.15   8.19   8.23   8.31   2000    1.0\n",
      "y_new[34]   8.39  1.4e-3   0.06   8.27   8.35   8.39   8.43   8.52   2000    1.0\n",
      "y_new[35]   8.59  1.5e-3   0.07   8.47   8.55   8.59   8.64   8.72   2000    1.0\n",
      "y_new[36]    8.8  1.5e-3   0.07   8.67   8.75   8.79   8.84   8.93   2000    1.0\n",
      "y_new[37]    9.0  1.6e-3   0.07   8.87   8.95    9.0   9.05   9.14   2000    1.0\n",
      "y_new[38]    9.2  1.7e-3   0.07   9.06   9.15    9.2   9.25   9.35   1929    1.0\n",
      "y_new[39]   9.41  1.8e-3   0.08   9.26   9.36    9.4   9.46   9.56   1862    1.0\n",
      "y_new[40]   9.61  1.8e-3   0.08   9.46   9.56   9.61   9.66   9.77   1800    1.0\n",
      "y_new[41]   9.81  1.9e-3   0.08   9.66   9.76   9.81   9.87   9.98   1743    1.0\n",
      "y_new[42]  10.02  2.1e-3   0.08   9.85   9.96  10.02  10.07  10.18   1692    1.0\n",
      "y_new[43]  10.22  2.2e-3   0.09  10.05  10.16  10.22  10.28  10.39   1645    1.0\n",
      "y_new[44]  10.42  2.3e-3   0.09  10.25  10.36  10.42  10.48   10.6   1603    1.0\n",
      "y_new[45]  10.62  2.4e-3   0.09  10.44  10.56  10.63  10.69  10.81   1565    1.0\n",
      "y_new[46]  10.83  2.5e-3    0.1  10.64  10.76  10.83  10.89  11.02   1530    1.0\n",
      "y_new[47]  11.03  2.6e-3    0.1  10.83  10.96  11.03   11.1  11.23   1499    1.0\n",
      "y_new[48]  11.23  2.7e-3    0.1  11.03  11.16  11.23   11.3  11.44   1470    1.0\n",
      "y_new[49]  11.44  2.8e-3   0.11  11.22  11.36  11.44  11.51  11.65   1444    1.0\n",
      "y_new[50]  11.64  2.9e-3   0.11  11.42  11.57  11.64  11.72  11.86   1420    1.0\n",
      "y_new[51]  11.84  3.1e-3   0.11  11.61  11.77  11.84  11.92  12.07   1399    1.0\n",
      "y_new[52]  12.05  3.2e-3   0.12  11.81  11.97  12.05  12.13  12.28   1379    1.0\n",
      "y_new[53]  12.25  3.3e-3   0.12  12.01  12.17  12.25  12.33  12.49   1361    1.0\n",
      "y_new[54]  12.45  3.4e-3   0.12   12.2  12.37  12.46  12.54   12.7   1344    1.0\n",
      "y_new[55]  12.66  3.5e-3   0.13   12.4  12.57  12.66  12.74  12.91   1328    1.0\n",
      "y_new[56]  12.86  3.6e-3   0.13   12.6  12.77  12.86  12.95  13.12   1314    1.0\n",
      "y_new[57]  13.06  3.8e-3   0.14  12.79  12.97  13.06  13.16  13.33   1301    1.0\n",
      "y_new[58]  13.27  3.9e-3   0.14  12.99  13.17  13.27  13.36  13.54   1288    1.0\n",
      "y_new[59]  13.47  4.0e-3   0.14  13.19  13.37  13.47  13.57  13.75   1277    1.0\n",
      "y_new[60]  13.67  4.1e-3   0.15  13.38  13.58  13.67  13.77  13.96   1266    1.0\n",
      "y_new[61]  13.88  4.2e-3   0.15  13.58  13.78  13.87  13.98  14.17   1256    1.0\n",
      "y_new[62]  14.08  4.4e-3   0.15  13.77  13.98  14.08  14.18  14.38   1247    1.0\n",
      "y_new[63]  14.28  4.5e-3   0.16  13.97  14.18  14.28  14.39  14.59   1238    1.0\n",
      "y_new[64]  14.49  4.6e-3   0.16  14.17  14.38  14.48   14.6   14.8   1230    1.0\n",
      "y_new[65]  14.69  4.7e-3   0.17  14.36  14.58  14.69   14.8  15.01   1222    1.0\n",
      "y_new[66]  14.89  4.8e-3   0.17  14.56  14.78  14.89  15.01  15.22   1215    1.0\n",
      "lp__       23.64    0.05   1.27  20.38   23.0  23.96  24.57  25.11    662    1.0\n",
      "\n",
      "Samples were drawn using NUTS at Fri May 15 22:56:11 2020.\n",
      "For each parameter, n_eff is a crude measure of effective sample size,\n",
      "and Rhat is the potential scale reduction factor on split chains (at \n",
      "convergence, Rhat=1).\n"
     ]
    }
   ],
   "source": [
    "print(fit)"
   ]
  },
  {
   "cell_type": "code",
   "execution_count": 29,
   "metadata": {},
   "outputs": [
    {
     "data": {
      "text/plain": [
       "(2000, 67)"
      ]
     },
     "execution_count": 29,
     "metadata": {},
     "output_type": "execute_result"
    }
   ],
   "source": [
    "ex = fit.extract(permuted=True) \n",
    "ex['y_new'].shape"
   ]
  },
  {
   "cell_type": "code",
   "execution_count": 94,
   "metadata": {},
   "outputs": [],
   "source": [
    "def myplot_sample_lines(df):\n",
    "    # Посэмплируем и порисуем прямые\n",
    "    fig, ax = plt.subplots(figsize=(7,7))\n",
    "    plt.ylim(top=3e5)\n",
    "    for i in range(0,df.shape[0]):\n",
    "        ax.plot(df['nday'].values, np.exp(ex['y_new'][i]), 'k-', lw=.1, color = 'gray')\n",
    "    ax.plot(df['nday'].values, df['total_cases'].values, 'k-', lw=2, color = 'red')\n",
    "    ax.set(xlabel='day', title='Num of sick people')\n",
    "    ax.grid()\n",
    "    plt.show()"
   ]
  },
  {
   "cell_type": "code",
   "execution_count": 95,
   "metadata": {},
   "outputs": [
    {
     "data": {
      "image/png": "[encoded data removed]",
      "text/plain": [
       "<Figure size 504x504 with 1 Axes>"
      ]
     },
     "metadata": {
      "needs_background": "light"
     },
     "output_type": "display_data"
    }
   ],
   "source": [
    "myplot_sample_lines(df)"
   ]
  },
  {
   "cell_type": "code",
   "execution_count": 65,
   "metadata": {},
   "outputs": [
    {
     "data": {
      "text/html": [
       "<div>\n",
       "<style scoped>\n",
       "    .dataframe tbody tr th:only-of-type {\n",
       "        vertical-align: middle;\n",
       "    }\n",
       "\n",
       "    .dataframe tbody tr th {\n",
       "        vertical-align: top;\n",
       "    }\n",
       "\n",
       "    .dataframe thead th {\n",
       "        text-align: right;\n",
       "    }\n",
       "</style>\n",
       "<table border=\"1\" class=\"dataframe\">\n",
       "  <thead>\n",
       "    <tr style=\"text-align: right;\">\n",
       "      <th></th>\n",
       "      <th>nday</th>\n",
       "      <th>total_cases</th>\n",
       "    </tr>\n",
       "  </thead>\n",
       "  <tbody>\n",
       "    <tr>\n",
       "      <th>14</th>\n",
       "      <td>15</td>\n",
       "      <td>93</td>\n",
       "    </tr>\n",
       "    <tr>\n",
       "      <th>29</th>\n",
       "      <td>30</td>\n",
       "      <td>2337</td>\n",
       "    </tr>\n",
       "    <tr>\n",
       "      <th>59</th>\n",
       "      <td>60</td>\n",
       "      <td>106498</td>\n",
       "    </tr>\n",
       "  </tbody>\n",
       "</table>\n",
       "</div>"
      ],
      "text/plain": [
       "    nday  total_cases\n",
       "14    15           93\n",
       "29    30         2337\n",
       "59    60       106498"
      ]
     },
     "execution_count": 65,
     "metadata": {},
     "output_type": "execute_result"
    }
   ],
   "source": [
    "df[df['nday'].isin([15, 30, 60])][['nday', 'total_cases']]"
   ]
  },
  {
   "cell_type": "code",
   "execution_count": 60,
   "metadata": {},
   "outputs": [
    {
     "name": "stdout",
     "output_type": "stream",
     "text": [
      "На 15й день = 93, на 30й = 1952, на 60й = 867249\n"
     ]
    }
   ],
   "source": [
    "ans = np.exp(np.mean(ex['y_new'], axis=0))[[15, 30, 60]]\n",
    "print(\"На 15й день = %.0f, на 30й = %.0f, на 60й = %.0f\" % (ans[0], ans[1], ans[2]))"
   ]
  },
  {
   "cell_type": "markdown",
   "metadata": {},
   "source": [
    "В прошлом ноутбуке получали аналогичные значения\n",
    "\n",
    "> day = 15, prediction = 70\n",
    "\n",
    "> day = 30, prediction = 1520\n",
    "\n",
    "> day = 60, prediction = 846909"
   ]
  },
  {
   "cell_type": "markdown",
   "metadata": {},
   "source": [
    "#### Воспользовались небольшой магией и получили схожие результаты :)"
   ]
  }
 ],
 "metadata": {
  "kernelspec": {
   "display_name": "Python 3",
   "language": "python",
   "name": "python3"
  },
  "language_info": {
   "codemirror_mode": {
    "name": "ipython",
    "version": 3
   },
   "file_extension": ".py",
   "mimetype": "text/x-python",
   "name": "python",
   "nbconvert_exporter": "python",
   "pygments_lexer": "ipython3",
   "version": "3.7.2"
  }
 },
 "nbformat": 4,
 "nbformat_minor": 4
}
