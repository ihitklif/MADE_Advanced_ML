{
 "cells": [
  {
   "cell_type": "code",
   "execution_count": 1,
   "metadata": {},
   "outputs": [],
   "source": [
    "import pickle\n",
    "import pandas as pd\n",
    "import numpy as np\n",
    "from tqdm import tqdm"
   ]
  },
  {
   "cell_type": "code",
   "execution_count": 2,
   "metadata": {},
   "outputs": [],
   "source": [
    "import warnings\n",
    "warnings.filterwarnings(\"ignore\")"
   ]
  },
  {
   "cell_type": "markdown",
   "metadata": {},
   "source": [
    "* Когда команда не отвечает, то мы знаем, что не ответили все\n",
    "* В случае ответа знать его могут не все => рассмотрим данные как Presence-Only "
   ]
  },
  {
   "cell_type": "code",
   "execution_count": 3,
   "metadata": {},
   "outputs": [],
   "source": [
    "df = pd.read_csv('bs2_final.csv')"
   ]
  },
  {
   "cell_type": "code",
   "execution_count": 4,
   "metadata": {},
   "outputs": [
    {
     "data": {
      "text/html": [
       "<div>\n",
       "<style scoped>\n",
       "    .dataframe tbody tr th:only-of-type {\n",
       "        vertical-align: middle;\n",
       "    }\n",
       "\n",
       "    .dataframe tbody tr th {\n",
       "        vertical-align: top;\n",
       "    }\n",
       "\n",
       "    .dataframe thead th {\n",
       "        text-align: right;\n",
       "    }\n",
       "</style>\n",
       "<table border=\"1\" class=\"dataframe\">\n",
       "  <thead>\n",
       "    <tr style=\"text-align: right;\">\n",
       "      <th></th>\n",
       "      <th>avg_tournament</th>\n",
       "      <th>date</th>\n",
       "      <th>team_id</th>\n",
       "      <th>tournament_key</th>\n",
       "      <th>mask</th>\n",
       "      <th>weights_arr</th>\n",
       "      <th>player_id</th>\n",
       "    </tr>\n",
       "  </thead>\n",
       "  <tbody>\n",
       "    <tr>\n",
       "      <th>0</th>\n",
       "      <td>0.46633</td>\n",
       "      <td>2019-01-05T19:00:00+03:00</td>\n",
       "      <td>45556</td>\n",
       "      <td>4772</td>\n",
       "      <td>1</td>\n",
       "      <td>0.883117</td>\n",
       "      <td>6212</td>\n",
       "    </tr>\n",
       "    <tr>\n",
       "      <th>1</th>\n",
       "      <td>0.46633</td>\n",
       "      <td>2019-01-05T19:00:00+03:00</td>\n",
       "      <td>45556</td>\n",
       "      <td>4772</td>\n",
       "      <td>1</td>\n",
       "      <td>0.883117</td>\n",
       "      <td>18332</td>\n",
       "    </tr>\n",
       "    <tr>\n",
       "      <th>2</th>\n",
       "      <td>0.46633</td>\n",
       "      <td>2019-01-05T19:00:00+03:00</td>\n",
       "      <td>45556</td>\n",
       "      <td>4772</td>\n",
       "      <td>1</td>\n",
       "      <td>0.883117</td>\n",
       "      <td>18036</td>\n",
       "    </tr>\n",
       "    <tr>\n",
       "      <th>3</th>\n",
       "      <td>0.46633</td>\n",
       "      <td>2019-01-05T19:00:00+03:00</td>\n",
       "      <td>45556</td>\n",
       "      <td>4772</td>\n",
       "      <td>1</td>\n",
       "      <td>0.883117</td>\n",
       "      <td>22799</td>\n",
       "    </tr>\n",
       "    <tr>\n",
       "      <th>4</th>\n",
       "      <td>0.46633</td>\n",
       "      <td>2019-01-05T19:00:00+03:00</td>\n",
       "      <td>45556</td>\n",
       "      <td>4772</td>\n",
       "      <td>1</td>\n",
       "      <td>0.883117</td>\n",
       "      <td>15456</td>\n",
       "    </tr>\n",
       "  </tbody>\n",
       "</table>\n",
       "</div>"
      ],
      "text/plain": [
       "   avg_tournament                       date  team_id  tournament_key  mask  \\\n",
       "0         0.46633  2019-01-05T19:00:00+03:00    45556            4772     1   \n",
       "1         0.46633  2019-01-05T19:00:00+03:00    45556            4772     1   \n",
       "2         0.46633  2019-01-05T19:00:00+03:00    45556            4772     1   \n",
       "3         0.46633  2019-01-05T19:00:00+03:00    45556            4772     1   \n",
       "4         0.46633  2019-01-05T19:00:00+03:00    45556            4772     1   \n",
       "\n",
       "   weights_arr  player_id  \n",
       "0     0.883117       6212  \n",
       "1     0.883117      18332  \n",
       "2     0.883117      18036  \n",
       "3     0.883117      22799  \n",
       "4     0.883117      15456  "
      ]
     },
     "execution_count": 4,
     "metadata": {},
     "output_type": "execute_result"
    }
   ],
   "source": [
    "df.head()"
   ]
  },
  {
   "cell_type": "code",
   "execution_count": 5,
   "metadata": {},
   "outputs": [],
   "source": [
    "train = df[df['date'] < '2020']"
   ]
  },
  {
   "cell_type": "code",
   "execution_count": 6,
   "metadata": {},
   "outputs": [
    {
     "name": "stdout",
     "output_type": "stream",
     "text": [
      "0    8648878\n",
      "1    6541822\n",
      "Name: mask, dtype: int64\n"
     ]
    }
   ],
   "source": [
    "print(train['mask'].value_counts())\n",
    "pis = 8648878 / (8648878+6541822) #встречаемость"
   ]
  },
  {
   "cell_type": "markdown",
   "metadata": {},
   "source": [
    "#### Init"
   ]
  },
  {
   "cell_type": "code",
   "execution_count": 7,
   "metadata": {},
   "outputs": [],
   "source": [
    "c = 1e-6\n",
    "train['target'] = train['mask'].apply(lambda x: c if x == 0 else pis)"
   ]
  },
  {
   "cell_type": "code",
   "execution_count": 8,
   "metadata": {},
   "outputs": [
    {
     "data": {
      "text/html": [
       "<div>\n",
       "<style scoped>\n",
       "    .dataframe tbody tr th:only-of-type {\n",
       "        vertical-align: middle;\n",
       "    }\n",
       "\n",
       "    .dataframe tbody tr th {\n",
       "        vertical-align: top;\n",
       "    }\n",
       "\n",
       "    .dataframe thead th {\n",
       "        text-align: right;\n",
       "    }\n",
       "</style>\n",
       "<table border=\"1\" class=\"dataframe\">\n",
       "  <thead>\n",
       "    <tr style=\"text-align: right;\">\n",
       "      <th></th>\n",
       "      <th>avg_tournament</th>\n",
       "      <th>date</th>\n",
       "      <th>team_id</th>\n",
       "      <th>tournament_key</th>\n",
       "      <th>mask</th>\n",
       "      <th>weights_arr</th>\n",
       "      <th>player_id</th>\n",
       "      <th>target</th>\n",
       "    </tr>\n",
       "  </thead>\n",
       "  <tbody>\n",
       "    <tr>\n",
       "      <th>54</th>\n",
       "      <td>0.46633</td>\n",
       "      <td>2019-01-05T19:00:00+03:00</td>\n",
       "      <td>45556</td>\n",
       "      <td>4772</td>\n",
       "      <td>0</td>\n",
       "      <td>0.030303</td>\n",
       "      <td>6212</td>\n",
       "      <td>0.000001</td>\n",
       "    </tr>\n",
       "    <tr>\n",
       "      <th>55</th>\n",
       "      <td>0.46633</td>\n",
       "      <td>2019-01-05T19:00:00+03:00</td>\n",
       "      <td>45556</td>\n",
       "      <td>4772</td>\n",
       "      <td>0</td>\n",
       "      <td>0.030303</td>\n",
       "      <td>18332</td>\n",
       "      <td>0.000001</td>\n",
       "    </tr>\n",
       "    <tr>\n",
       "      <th>56</th>\n",
       "      <td>0.46633</td>\n",
       "      <td>2019-01-05T19:00:00+03:00</td>\n",
       "      <td>45556</td>\n",
       "      <td>4772</td>\n",
       "      <td>0</td>\n",
       "      <td>0.030303</td>\n",
       "      <td>18036</td>\n",
       "      <td>0.000001</td>\n",
       "    </tr>\n",
       "    <tr>\n",
       "      <th>57</th>\n",
       "      <td>0.46633</td>\n",
       "      <td>2019-01-05T19:00:00+03:00</td>\n",
       "      <td>45556</td>\n",
       "      <td>4772</td>\n",
       "      <td>0</td>\n",
       "      <td>0.030303</td>\n",
       "      <td>22799</td>\n",
       "      <td>0.000001</td>\n",
       "    </tr>\n",
       "    <tr>\n",
       "      <th>58</th>\n",
       "      <td>0.46633</td>\n",
       "      <td>2019-01-05T19:00:00+03:00</td>\n",
       "      <td>45556</td>\n",
       "      <td>4772</td>\n",
       "      <td>0</td>\n",
       "      <td>0.030303</td>\n",
       "      <td>15456</td>\n",
       "      <td>0.000001</td>\n",
       "    </tr>\n",
       "  </tbody>\n",
       "</table>\n",
       "</div>"
      ],
      "text/plain": [
       "    avg_tournament                       date  team_id  tournament_key  mask  \\\n",
       "54         0.46633  2019-01-05T19:00:00+03:00    45556            4772     0   \n",
       "55         0.46633  2019-01-05T19:00:00+03:00    45556            4772     0   \n",
       "56         0.46633  2019-01-05T19:00:00+03:00    45556            4772     0   \n",
       "57         0.46633  2019-01-05T19:00:00+03:00    45556            4772     0   \n",
       "58         0.46633  2019-01-05T19:00:00+03:00    45556            4772     0   \n",
       "\n",
       "    weights_arr  player_id    target  \n",
       "54     0.030303       6212  0.000001  \n",
       "55     0.030303      18332  0.000001  \n",
       "56     0.030303      18036  0.000001  \n",
       "57     0.030303      22799  0.000001  \n",
       "58     0.030303      15456  0.000001  "
      ]
     },
     "execution_count": 8,
     "metadata": {},
     "output_type": "execute_result"
    }
   ],
   "source": [
    "train[train['mask'] != 1].head()"
   ]
  },
  {
   "cell_type": "code",
   "execution_count": 9,
   "metadata": {},
   "outputs": [
    {
     "data": {
      "text/html": [
       "<div>\n",
       "<style scoped>\n",
       "    .dataframe tbody tr th:only-of-type {\n",
       "        vertical-align: middle;\n",
       "    }\n",
       "\n",
       "    .dataframe tbody tr th {\n",
       "        vertical-align: top;\n",
       "    }\n",
       "\n",
       "    .dataframe thead th {\n",
       "        text-align: right;\n",
       "    }\n",
       "</style>\n",
       "<table border=\"1\" class=\"dataframe\">\n",
       "  <thead>\n",
       "    <tr style=\"text-align: right;\">\n",
       "      <th></th>\n",
       "      <th>avg_tournament</th>\n",
       "      <th>date</th>\n",
       "      <th>team_id</th>\n",
       "      <th>tournament_key</th>\n",
       "      <th>mask</th>\n",
       "      <th>weights_arr</th>\n",
       "      <th>player_id</th>\n",
       "      <th>target</th>\n",
       "    </tr>\n",
       "  </thead>\n",
       "  <tbody>\n",
       "    <tr>\n",
       "      <th>0</th>\n",
       "      <td>0.46633</td>\n",
       "      <td>2019-01-05T19:00:00+03:00</td>\n",
       "      <td>45556</td>\n",
       "      <td>4772</td>\n",
       "      <td>1</td>\n",
       "      <td>0.883117</td>\n",
       "      <td>6212</td>\n",
       "      <td>0.569353</td>\n",
       "    </tr>\n",
       "    <tr>\n",
       "      <th>1</th>\n",
       "      <td>0.46633</td>\n",
       "      <td>2019-01-05T19:00:00+03:00</td>\n",
       "      <td>45556</td>\n",
       "      <td>4772</td>\n",
       "      <td>1</td>\n",
       "      <td>0.883117</td>\n",
       "      <td>18332</td>\n",
       "      <td>0.569353</td>\n",
       "    </tr>\n",
       "    <tr>\n",
       "      <th>2</th>\n",
       "      <td>0.46633</td>\n",
       "      <td>2019-01-05T19:00:00+03:00</td>\n",
       "      <td>45556</td>\n",
       "      <td>4772</td>\n",
       "      <td>1</td>\n",
       "      <td>0.883117</td>\n",
       "      <td>18036</td>\n",
       "      <td>0.569353</td>\n",
       "    </tr>\n",
       "    <tr>\n",
       "      <th>3</th>\n",
       "      <td>0.46633</td>\n",
       "      <td>2019-01-05T19:00:00+03:00</td>\n",
       "      <td>45556</td>\n",
       "      <td>4772</td>\n",
       "      <td>1</td>\n",
       "      <td>0.883117</td>\n",
       "      <td>22799</td>\n",
       "      <td>0.569353</td>\n",
       "    </tr>\n",
       "    <tr>\n",
       "      <th>4</th>\n",
       "      <td>0.46633</td>\n",
       "      <td>2019-01-05T19:00:00+03:00</td>\n",
       "      <td>45556</td>\n",
       "      <td>4772</td>\n",
       "      <td>1</td>\n",
       "      <td>0.883117</td>\n",
       "      <td>15456</td>\n",
       "      <td>0.569353</td>\n",
       "    </tr>\n",
       "  </tbody>\n",
       "</table>\n",
       "</div>"
      ],
      "text/plain": [
       "   avg_tournament                       date  team_id  tournament_key  mask  \\\n",
       "0         0.46633  2019-01-05T19:00:00+03:00    45556            4772     1   \n",
       "1         0.46633  2019-01-05T19:00:00+03:00    45556            4772     1   \n",
       "2         0.46633  2019-01-05T19:00:00+03:00    45556            4772     1   \n",
       "3         0.46633  2019-01-05T19:00:00+03:00    45556            4772     1   \n",
       "4         0.46633  2019-01-05T19:00:00+03:00    45556            4772     1   \n",
       "\n",
       "   weights_arr  player_id    target  \n",
       "0     0.883117       6212  0.569353  \n",
       "1     0.883117      18332  0.569353  \n",
       "2     0.883117      18036  0.569353  \n",
       "3     0.883117      22799  0.569353  \n",
       "4     0.883117      15456  0.569353  "
      ]
     },
     "execution_count": 9,
     "metadata": {},
     "output_type": "execute_result"
    }
   ],
   "source": [
    "train[train['mask'] == 1].head()"
   ]
  },
  {
   "cell_type": "code",
   "execution_count": 10,
   "metadata": {},
   "outputs": [],
   "source": [
    "from sklearn.preprocessing import OneHotEncoder\n",
    "encoder = OneHotEncoder().fit(train['player_id'].to_frame())"
   ]
  },
  {
   "cell_type": "code",
   "execution_count": 11,
   "metadata": {},
   "outputs": [],
   "source": [
    "from scipy.sparse import csr_matrix, hstack\n",
    "from scipy.special import logit"
   ]
  },
  {
   "cell_type": "code",
   "execution_count": 12,
   "metadata": {},
   "outputs": [],
   "source": [
    "X_train = hstack([csr_matrix(train[['avg_tournament', 'weights_arr']].values),\n",
    "                    encoder.transform(train['player_id'].to_frame())])\n",
    "\n",
    "y_train = logit(train['target'])"
   ]
  },
  {
   "cell_type": "code",
   "execution_count": 13,
   "metadata": {},
   "outputs": [
    {
     "data": {
      "text/plain": [
       "-1.200594128337945"
      ]
     },
     "execution_count": 13,
     "metadata": {},
     "output_type": "execute_result"
    }
   ],
   "source": [
    "n_p = 8648878\n",
    "n_u = 6541822\n",
    "- np.log((n_p + pis * n_u)/(pis * n_u))"
   ]
  },
  {
   "cell_type": "code",
   "execution_count": 14,
   "metadata": {},
   "outputs": [],
   "source": [
    "from sklearn.linear_model import LinearRegression"
   ]
  },
  {
   "cell_type": "markdown",
   "metadata": {},
   "source": [
    "Реализация по аналогии с http://www.web.stanford.edu/~hastie/Papers/ward_biometrics.pdf"
   ]
  },
  {
   "cell_type": "code",
   "execution_count": 15,
   "metadata": {},
   "outputs": [],
   "source": [
    "def e_step(X, model):\n",
    "    pred = model.predict(X)\n",
    "    adds = np.log((n_p + pis * n_u)/(pis * n_u))\n",
    "    return np.exp(pred - adds) / (np.exp(pred - adds) + 1)"
   ]
  },
  {
   "cell_type": "code",
   "execution_count": 16,
   "metadata": {},
   "outputs": [],
   "source": [
    "def m_step(X_train, y_train):\n",
    "    lr = LinearRegression().fit(X_train, y_train)\n",
    "    return lr"
   ]
  },
  {
   "cell_type": "code",
   "execution_count": 17,
   "metadata": {},
   "outputs": [
    {
     "name": "stdout",
     "output_type": "stream",
     "text": [
      "CPU times: user 1min 13s, sys: 4.83 s, total: 1min 18s\n",
      "Wall time: 40.7 s\n"
     ]
    }
   ],
   "source": [
    "%%time\n",
    "lr1 = m_step(X_train, y_train)"
   ]
  },
  {
   "cell_type": "code",
   "execution_count": 18,
   "metadata": {},
   "outputs": [],
   "source": [
    "train['target1'] = e_step(X_train, lr1)"
   ]
  },
  {
   "cell_type": "code",
   "execution_count": 19,
   "metadata": {},
   "outputs": [],
   "source": [
    "train_upd = train[train['mask'] == 1][['avg_tournament', 'date', 'team_id', 'tournament_key', 'mask',\n",
    "       'weights_arr', 'player_id', 'target1']]\n",
    "\n",
    "train_upd.columns = ['avg_tournament', 'date', 'team_id', 'tournament_key', 'mask', \n",
    "                     'weights_arr', 'player_id', 'target']"
   ]
  },
  {
   "cell_type": "code",
   "execution_count": 20,
   "metadata": {},
   "outputs": [],
   "source": [
    "cols = ['avg_tournament', 'date', 'team_id', 'tournament_key', 'mask', 'weights_arr', 'player_id', 'target']"
   ]
  },
  {
   "cell_type": "code",
   "execution_count": 21,
   "metadata": {},
   "outputs": [],
   "source": [
    "train = pd.concat([train[train['mask'] == 0][cols], train_upd])"
   ]
  },
  {
   "cell_type": "code",
   "execution_count": 22,
   "metadata": {},
   "outputs": [
    {
     "data": {
      "text/html": [
       "<div>\n",
       "<style scoped>\n",
       "    .dataframe tbody tr th:only-of-type {\n",
       "        vertical-align: middle;\n",
       "    }\n",
       "\n",
       "    .dataframe tbody tr th {\n",
       "        vertical-align: top;\n",
       "    }\n",
       "\n",
       "    .dataframe thead th {\n",
       "        text-align: right;\n",
       "    }\n",
       "</style>\n",
       "<table border=\"1\" class=\"dataframe\">\n",
       "  <thead>\n",
       "    <tr style=\"text-align: right;\">\n",
       "      <th></th>\n",
       "      <th>avg_tournament</th>\n",
       "      <th>date</th>\n",
       "      <th>team_id</th>\n",
       "      <th>tournament_key</th>\n",
       "      <th>mask</th>\n",
       "      <th>weights_arr</th>\n",
       "      <th>player_id</th>\n",
       "      <th>target</th>\n",
       "    </tr>\n",
       "  </thead>\n",
       "  <tbody>\n",
       "    <tr>\n",
       "      <th>54</th>\n",
       "      <td>0.46633</td>\n",
       "      <td>2019-01-05T19:00:00+03:00</td>\n",
       "      <td>45556</td>\n",
       "      <td>4772</td>\n",
       "      <td>0</td>\n",
       "      <td>0.030303</td>\n",
       "      <td>6212</td>\n",
       "      <td>0.000001</td>\n",
       "    </tr>\n",
       "    <tr>\n",
       "      <th>55</th>\n",
       "      <td>0.46633</td>\n",
       "      <td>2019-01-05T19:00:00+03:00</td>\n",
       "      <td>45556</td>\n",
       "      <td>4772</td>\n",
       "      <td>0</td>\n",
       "      <td>0.030303</td>\n",
       "      <td>18332</td>\n",
       "      <td>0.000001</td>\n",
       "    </tr>\n",
       "  </tbody>\n",
       "</table>\n",
       "</div>"
      ],
      "text/plain": [
       "    avg_tournament                       date  team_id  tournament_key  mask  \\\n",
       "54         0.46633  2019-01-05T19:00:00+03:00    45556            4772     0   \n",
       "55         0.46633  2019-01-05T19:00:00+03:00    45556            4772     0   \n",
       "\n",
       "    weights_arr  player_id    target  \n",
       "54     0.030303       6212  0.000001  \n",
       "55     0.030303      18332  0.000001  "
      ]
     },
     "execution_count": 22,
     "metadata": {},
     "output_type": "execute_result"
    }
   ],
   "source": [
    "train.head(2)"
   ]
  },
  {
   "cell_type": "code",
   "execution_count": 25,
   "metadata": {},
   "outputs": [
    {
     "data": {
      "text/plain": [
       "(53768,)"
      ]
     },
     "execution_count": 25,
     "metadata": {},
     "output_type": "execute_result"
    }
   ],
   "source": [
    "lr1.coef_.shape"
   ]
  },
  {
   "cell_type": "code",
   "execution_count": 26,
   "metadata": {},
   "outputs": [],
   "source": [
    "df_rates = pd.DataFrame()\n",
    "df_rates['players'] = pd.Series(encoder.get_feature_names())\n",
    "df_rates['rates'] = pd.Series(lr1.coef_[2:])\n",
    "df_rates['players'] = df_rates['players'].str[3:].astype(int)"
   ]
  },
  {
   "cell_type": "code",
   "execution_count": 28,
   "metadata": {},
   "outputs": [],
   "source": [
    "# df_rates.to_csv('bs3_rates.csv', header=True, index=False)"
   ]
  },
  {
   "cell_type": "code",
   "execution_count": 29,
   "metadata": {},
   "outputs": [],
   "source": [
    "df_tp = pd.read_csv('bs2_players.csv')\n",
    "df2 = pd.read_csv('bs1_data.csv')\n",
    "df_rates = pd.read_csv('bs3_rates.csv')\n",
    "\n",
    "df_rates.columns = ['player_id', 'rates']\n",
    "ans = df[df['date'] >= '2020'].merge(df_rates, on='player_id', how='left')\n",
    "ans_gr = ans[['tournament_key', 'team_id', 'rates']].groupby(['tournament_key', 'team_id']).rates.sum().reset_index()"
   ]
  },
  {
   "cell_type": "code",
   "execution_count": 30,
   "metadata": {},
   "outputs": [],
   "source": [
    "from scipy import stats"
   ]
  },
  {
   "cell_type": "code",
   "execution_count": 31,
   "metadata": {},
   "outputs": [
    {
     "name": "stderr",
     "output_type": "stream",
     "text": [
      "100%|██████████| 161/161 [00:02<00:00, 65.36it/s]\n"
     ]
    }
   ],
   "source": [
    "res_fin = []\n",
    "for key in tqdm(ans.tournament_key.unique()):\n",
    "    ans_sample = ans_gr[ans_gr['tournament_key'] == key].sort_values(by=['tournament_key', 'rates'], ascending=False)\n",
    "    ans_sample['position_pred'] = np.arange(len(ans_sample))+1\n",
    "    ans_sample = ans_sample.merge(df2[['tournament_key', 'team_id', 'position']], on=['tournament_key', 'team_id'])\n",
    "    res_fin.append(stats.spearmanr(ans_sample['position'], ans_sample['position_pred'])[0])"
   ]
  },
  {
   "cell_type": "code",
   "execution_count": 32,
   "metadata": {},
   "outputs": [
    {
     "data": {
      "text/plain": [
       "160"
      ]
     },
     "execution_count": 32,
     "metadata": {},
     "output_type": "execute_result"
    }
   ],
   "source": [
    "res_fin = [x for x in res_fin if str(x) != 'nan']\n",
    "len(res_fin)"
   ]
  },
  {
   "cell_type": "code",
   "execution_count": 33,
   "metadata": {},
   "outputs": [
    {
     "data": {
      "text/plain": [
       "0.7338188019451908"
      ]
     },
     "execution_count": 33,
     "metadata": {},
     "output_type": "execute_result"
    }
   ],
   "source": [
    "np.mean(res_fin)"
   ]
  },
  {
   "cell_type": "code",
   "execution_count": 32,
   "metadata": {},
   "outputs": [
    {
     "data": {
      "text/plain": [
       "0.7338188019451908"
      ]
     },
     "execution_count": 32,
     "metadata": {},
     "output_type": "execute_result"
    }
   ],
   "source": [
    "np.mean(res_fin)"
   ]
  },
  {
   "cell_type": "code",
   "execution_count": null,
   "metadata": {},
   "outputs": [],
   "source": []
  },
  {
   "cell_type": "code",
   "execution_count": 100,
   "metadata": {},
   "outputs": [],
   "source": [
    "y_train = logit(train['target'])"
   ]
  },
  {
   "cell_type": "code",
   "execution_count": 35,
   "metadata": {},
   "outputs": [],
   "source": [
    "# %%time\n",
    "# lr1 = m_step(X_train, y_train)\n",
    "# train['target1'] = e_step(X_train, lr1)"
   ]
  },
  {
   "cell_type": "code",
   "execution_count": 34,
   "metadata": {},
   "outputs": [
    {
     "name": "stderr",
     "output_type": "stream",
     "text": [
      "100%|██████████| 161/161 [00:02<00:00, 66.94it/s]\n"
     ]
    },
    {
     "name": "stdout",
     "output_type": "stream",
     "text": [
      "0 -0.1422783863267874\n"
     ]
    },
    {
     "name": "stderr",
     "output_type": "stream",
     "text": [
      "100%|██████████| 161/161 [00:02<00:00, 60.78it/s]\n"
     ]
    },
    {
     "name": "stdout",
     "output_type": "stream",
     "text": [
      "1 -0.3489536062141627\n"
     ]
    },
    {
     "name": "stderr",
     "output_type": "stream",
     "text": [
      "100%|██████████| 161/161 [00:02<00:00, 62.37it/s]\n"
     ]
    },
    {
     "name": "stdout",
     "output_type": "stream",
     "text": [
      "2 -0.4321961450853754\n"
     ]
    },
    {
     "name": "stderr",
     "output_type": "stream",
     "text": [
      "100%|██████████| 161/161 [00:02<00:00, 62.29it/s]\n"
     ]
    },
    {
     "name": "stdout",
     "output_type": "stream",
     "text": [
      "3 -0.48046076685614725\n"
     ]
    },
    {
     "name": "stderr",
     "output_type": "stream",
     "text": [
      "100%|██████████| 161/161 [00:02<00:00, 60.65it/s]"
     ]
    },
    {
     "name": "stdout",
     "output_type": "stream",
     "text": [
      "4 -0.4762338622437112\n"
     ]
    },
    {
     "name": "stderr",
     "output_type": "stream",
     "text": [
      "\n"
     ]
    }
   ],
   "source": [
    "for i in range(0,5):\n",
    "\n",
    "    y_train = logit(train['target'])\n",
    "\n",
    "    lr1 = m_step(X_train, y_train)\n",
    "    train['target1'] = e_step(X_train, lr1)\n",
    "\n",
    "    train_upd = train[train['mask'] == 1][['avg_tournament', 'date', 'team_id', 'tournament_key', 'mask',\n",
    "           'weights_arr', 'player_id', 'target1']]\n",
    "\n",
    "    train_upd.columns = ['avg_tournament', 'date', 'team_id', 'tournament_key', 'mask', \n",
    "                         'weights_arr', 'player_id', 'target']\n",
    "\n",
    "    train = pd.concat([train[train['mask'] == 0][cols], train_upd])\n",
    "\n",
    "    df_rates = pd.DataFrame()\n",
    "    df_rates['players'] = pd.Series(encoder.get_feature_names())\n",
    "    df_rates['rates'] = pd.Series(lr1.coef_[2:])\n",
    "    df_rates['players'] = df_rates['players'].str[3:].astype(int)\n",
    "\n",
    "    df_rates.columns = ['player_id', 'rates']\n",
    "    ans = df[df['date'] >= '2020'].merge(df_rates, on='player_id', how='left')\n",
    "    ans_gr = ans[['tournament_key', 'team_id', 'rates']].groupby(['tournament_key', 'team_id']).rates.sum().reset_index()\n",
    "\n",
    "    res_fin = []\n",
    "    for key in tqdm(ans.tournament_key.unique()):\n",
    "        ans_sample = ans_gr[ans_gr['tournament_key'] == key].sort_values(by=['tournament_key', 'rates'], ascending=False)\n",
    "        ans_sample['position_pred'] = np.arange(len(ans_sample))+1\n",
    "        ans_sample = ans_sample.merge(df2[['tournament_key', 'team_id', 'position']], on=['tournament_key', 'team_id'])\n",
    "        res_fin.append(stats.spearmanr(ans_sample['position'], ans_sample['position_pred'])[0])\n",
    "\n",
    "    res_fin = [x for x in res_fin if str(x) != 'nan']\n",
    "    len(res_fin)\n",
    "\n",
    "    print(i, np.mean(res_fin))"
   ]
  },
  {
   "cell_type": "markdown",
   "metadata": {},
   "source": [
    "Есть ощущение, что из-за первичного приближения неверных ответов модель имеет склонность занижать предсказания"
   ]
  },
  {
   "cell_type": "markdown",
   "metadata": {},
   "source": [
    "### Рейтинги турниров"
   ]
  },
  {
   "cell_type": "code",
   "execution_count": 33,
   "metadata": {},
   "outputs": [],
   "source": [
    "with open('tournaments.pkl', 'rb') as f:\n",
    "    tour = pickle.load(f)"
   ]
  },
  {
   "cell_type": "code",
   "execution_count": 34,
   "metadata": {},
   "outputs": [
    {
     "data": {
      "text/plain": [
       "Index(['id', 'name', 'dateStart', 'dateEnd', 'type', 'season', 'orgcommittee',\n",
       "       'synchData', 'questionQty'],\n",
       "      dtype='object')"
      ]
     },
     "execution_count": 34,
     "metadata": {},
     "output_type": "execute_result"
    }
   ],
   "source": [
    "tour = pd.DataFrame(tour).T\n",
    "tour = tour[tour['dateStart'] >= '2020']\n",
    "tour.columns"
   ]
  },
  {
   "cell_type": "code",
   "execution_count": 41,
   "metadata": {},
   "outputs": [],
   "source": [
    "top_tour = df.merge(df_rates, on='player_id').groupby(['tournament_key']).rates.sum()\\\n",
    "                        .reset_index().sort_values(by='rates', ascending=False)"
   ]
  },
  {
   "cell_type": "code",
   "execution_count": 47,
   "metadata": {},
   "outputs": [],
   "source": [
    "# top_tour.head()"
   ]
  },
  {
   "cell_type": "code",
   "execution_count": 45,
   "metadata": {},
   "outputs": [
    {
     "data": {
      "text/html": [
       "<div>\n",
       "<style scoped>\n",
       "    .dataframe tbody tr th:only-of-type {\n",
       "        vertical-align: middle;\n",
       "    }\n",
       "\n",
       "    .dataframe tbody tr th {\n",
       "        vertical-align: top;\n",
       "    }\n",
       "\n",
       "    .dataframe thead th {\n",
       "        text-align: right;\n",
       "    }\n",
       "</style>\n",
       "<table border=\"1\" class=\"dataframe\">\n",
       "  <thead>\n",
       "    <tr style=\"text-align: right;\">\n",
       "      <th></th>\n",
       "      <th>tournament_key</th>\n",
       "      <th>name</th>\n",
       "    </tr>\n",
       "  </thead>\n",
       "  <tbody>\n",
       "    <tr>\n",
       "      <th>0</th>\n",
       "      <td>5719</td>\n",
       "      <td>Синхрон Моносова</td>\n",
       "    </tr>\n",
       "    <tr>\n",
       "      <th>1</th>\n",
       "      <td>5753</td>\n",
       "      <td>Балтийский Берег. 3 игра</td>\n",
       "    </tr>\n",
       "    <tr>\n",
       "      <th>2</th>\n",
       "      <td>6093</td>\n",
       "      <td>Азовский бриз</td>\n",
       "    </tr>\n",
       "    <tr>\n",
       "      <th>3</th>\n",
       "      <td>5754</td>\n",
       "      <td>Балтийский Берег. 4 игра</td>\n",
       "    </tr>\n",
       "    <tr>\n",
       "      <th>4</th>\n",
       "      <td>5823</td>\n",
       "      <td>ОВСЧ. 6 этап</td>\n",
       "    </tr>\n",
       "    <tr>\n",
       "      <th>5</th>\n",
       "      <td>5923</td>\n",
       "      <td>Фрегат \"Паллада\": синхрон \"Борского корабела\"</td>\n",
       "    </tr>\n",
       "    <tr>\n",
       "      <th>6</th>\n",
       "      <td>6041</td>\n",
       "      <td>Кубок Бесконечности. V этап</td>\n",
       "    </tr>\n",
       "    <tr>\n",
       "      <th>7</th>\n",
       "      <td>6042</td>\n",
       "      <td>Кубок Бесконечности. VI этап</td>\n",
       "    </tr>\n",
       "    <tr>\n",
       "      <th>8</th>\n",
       "      <td>6142</td>\n",
       "      <td>Молодёжный кубок Европы. Этап 1</td>\n",
       "    </tr>\n",
       "    <tr>\n",
       "      <th>9</th>\n",
       "      <td>6070</td>\n",
       "      <td>Синхронный Кубок Хайфы</td>\n",
       "    </tr>\n",
       "  </tbody>\n",
       "</table>\n",
       "</div>"
      ],
      "text/plain": [
       "  tournament_key                                           name\n",
       "0           5719                               Синхрон Моносова\n",
       "1           5753                       Балтийский Берег. 3 игра\n",
       "2           6093                                  Азовский бриз\n",
       "3           5754                       Балтийский Берег. 4 игра\n",
       "4           5823                                   ОВСЧ. 6 этап\n",
       "5           5923  Фрегат \"Паллада\": синхрон \"Борского корабела\"\n",
       "6           6041                    Кубок Бесконечности. V этап\n",
       "7           6042                   Кубок Бесконечности. VI этап\n",
       "8           6142                Молодёжный кубок Европы. Этап 1\n",
       "9           6070                         Синхронный Кубок Хайфы"
      ]
     },
     "execution_count": 45,
     "metadata": {},
     "output_type": "execute_result"
    }
   ],
   "source": [
    "#сложные турниры\n",
    "top_tour.merge(tour[['id', 'name']], left_on = 'tournament_key', right_on = 'id')[['tournament_key', 'name']].head(10)"
   ]
  },
  {
   "cell_type": "code",
   "execution_count": 46,
   "metadata": {},
   "outputs": [
    {
     "data": {
      "text/html": [
       "<div>\n",
       "<style scoped>\n",
       "    .dataframe tbody tr th:only-of-type {\n",
       "        vertical-align: middle;\n",
       "    }\n",
       "\n",
       "    .dataframe tbody tr th {\n",
       "        vertical-align: top;\n",
       "    }\n",
       "\n",
       "    .dataframe thead th {\n",
       "        text-align: right;\n",
       "    }\n",
       "</style>\n",
       "<table border=\"1\" class=\"dataframe\">\n",
       "  <thead>\n",
       "    <tr style=\"text-align: right;\">\n",
       "      <th></th>\n",
       "      <th>tournament_key</th>\n",
       "      <th>name</th>\n",
       "    </tr>\n",
       "  </thead>\n",
       "  <tbody>\n",
       "    <tr>\n",
       "      <th>151</th>\n",
       "      <td>6182</td>\n",
       "      <td>Кубок Ростова-на-Дону, день 3</td>\n",
       "    </tr>\n",
       "    <tr>\n",
       "      <th>152</th>\n",
       "      <td>6314</td>\n",
       "      <td>Студенческий чемпионат Ярославской области</td>\n",
       "    </tr>\n",
       "    <tr>\n",
       "      <th>153</th>\n",
       "      <td>6362</td>\n",
       "      <td>Онлайн: Delivery Cup</td>\n",
       "    </tr>\n",
       "    <tr>\n",
       "      <th>154</th>\n",
       "      <td>6340</td>\n",
       "      <td>Покорение Сибири. День 2</td>\n",
       "    </tr>\n",
       "    <tr>\n",
       "      <th>155</th>\n",
       "      <td>6409</td>\n",
       "      <td>Онлайн: 08:00 Лига старта-13</td>\n",
       "    </tr>\n",
       "    <tr>\n",
       "      <th>156</th>\n",
       "      <td>6256</td>\n",
       "      <td>50 на двоих</td>\n",
       "    </tr>\n",
       "    <tr>\n",
       "      <th>157</th>\n",
       "      <td>6181</td>\n",
       "      <td>Кубок Ростова-на-Дону, день 2</td>\n",
       "    </tr>\n",
       "    <tr>\n",
       "      <th>158</th>\n",
       "      <td>6223</td>\n",
       "      <td>С чаем пойдёт (green)</td>\n",
       "    </tr>\n",
       "    <tr>\n",
       "      <th>159</th>\n",
       "      <td>6339</td>\n",
       "      <td>Покорение Сибири. День 1</td>\n",
       "    </tr>\n",
       "    <tr>\n",
       "      <th>160</th>\n",
       "      <td>6325</td>\n",
       "      <td>Буслик</td>\n",
       "    </tr>\n",
       "  </tbody>\n",
       "</table>\n",
       "</div>"
      ],
      "text/plain": [
       "    tournament_key                                        name\n",
       "151           6182               Кубок Ростова-на-Дону, день 3\n",
       "152           6314  Студенческий чемпионат Ярославской области\n",
       "153           6362                        Онлайн: Delivery Cup\n",
       "154           6340                    Покорение Сибири. День 2\n",
       "155           6409                Онлайн: 08:00 Лига старта-13\n",
       "156           6256                                 50 на двоих\n",
       "157           6181               Кубок Ростова-на-Дону, день 2\n",
       "158           6223                       С чаем пойдёт (green)\n",
       "159           6339                    Покорение Сибири. День 1\n",
       "160           6325                                      Буслик"
      ]
     },
     "execution_count": 46,
     "metadata": {},
     "output_type": "execute_result"
    }
   ],
   "source": [
    "#простые турниры\n",
    "top_tour.merge(tour[['id', 'name']], left_on = 'tournament_key', right_on = 'id')[['tournament_key', 'name']].tail(10)"
   ]
  }
 ],
 "metadata": {
  "kernelspec": {
   "display_name": "Python 3",
   "language": "python",
   "name": "python3"
  },
  "language_info": {
   "codemirror_mode": {
    "name": "ipython",
    "version": 3
   },
   "file_extension": ".py",
   "mimetype": "text/x-python",
   "name": "python",
   "nbconvert_exporter": "python",
   "pygments_lexer": "ipython3",
   "version": "3.7.2"
  }
 },
 "nbformat": 4,
 "nbformat_minor": 4
}
