{
 "cells": [
  {
   "cell_type": "markdown",
   "metadata": {},
   "source": [
    "## Task 1"
   ]
  },
  {
   "cell_type": "code",
   "execution_count": 1,
   "metadata": {},
   "outputs": [],
   "source": [
    "import numpy as np\n",
    "import nltk\n",
    "from nltk.tokenize import RegexpTokenizer\n",
    "from sklearn.feature_extraction.text import CountVectorizer\n",
    "import pandas as pd"
   ]
  },
  {
   "cell_type": "code",
   "execution_count": 2,
   "metadata": {},
   "outputs": [],
   "source": [
    "with open('corpora/WarAndPeace.txt', 'r', encoding=\"utf8\") as file:\n",
    "    data_ru = file.readlines()\n",
    "    file.close()"
   ]
  },
  {
   "cell_type": "code",
   "execution_count": 3,
   "metadata": {},
   "outputs": [],
   "source": [
    "with open('corpora/AnnaKarenina.txt', 'r', encoding=\"utf8\") as file:\n",
    "    ex = file.readlines()\n",
    "    file.close()\n",
    "    \n",
    "test_ru = ex[30].lower()"
   ]
  },
  {
   "cell_type": "code",
   "execution_count": 4,
   "metadata": {},
   "outputs": [],
   "source": [
    "def make_dict(data_ru, num=1):\n",
    "    cv = CountVectorizer(data_ru, ngram_range=(num, num), analyzer='char')\n",
    "    count_vector = cv.fit_transform(data_ru)\n",
    "\n",
    "    #dict CountVectorizer\n",
    "    df = pd.DataFrame(cv.vocabulary_.items())\n",
    "    df.columns = ['char_val', 'ind']\n",
    "    cols = df.sort_values(by='ind').char_val.tolist()\n",
    "\n",
    "    #data\n",
    "    df_cv = pd.DataFrame(count_vector.todense())\n",
    "    df_cv.columns = cols\n",
    "    \n",
    "    dict_cnt = dict()\n",
    "    for col in df_cv.columns:\n",
    "        dict_cnt[col] = df_cv[col].sum()\n",
    "\n",
    "    df_cnt = pd.DataFrame(dict_cnt.items())\n",
    "    df_cnt.columns = ['char_val', 'sum']\n",
    "    df_cnt = df_cnt.sort_values(by='sum', ascending=False)\n",
    "    return df_cnt"
   ]
  },
  {
   "cell_type": "code",
   "execution_count": 5,
   "metadata": {},
   "outputs": [
    {
     "data": {
      "text/html": [
       "<div>\n",
       "<style scoped>\n",
       "    .dataframe tbody tr th:only-of-type {\n",
       "        vertical-align: middle;\n",
       "    }\n",
       "\n",
       "    .dataframe tbody tr th {\n",
       "        vertical-align: top;\n",
       "    }\n",
       "\n",
       "    .dataframe thead th {\n",
       "        text-align: right;\n",
       "    }\n",
       "</style>\n",
       "<table border=\"1\" class=\"dataframe\">\n",
       "  <thead>\n",
       "    <tr style=\"text-align: right;\">\n",
       "      <th></th>\n",
       "      <th>char_val</th>\n",
       "      <th>sum</th>\n",
       "    </tr>\n",
       "  </thead>\n",
       "  <tbody>\n",
       "    <tr>\n",
       "      <th>2</th>\n",
       "      <td></td>\n",
       "      <td>110708</td>\n",
       "    </tr>\n",
       "    <tr>\n",
       "      <th>84</th>\n",
       "      <td>о</td>\n",
       "      <td>61282</td>\n",
       "    </tr>\n",
       "    <tr>\n",
       "      <th>70</th>\n",
       "      <td>а</td>\n",
       "      <td>45209</td>\n",
       "    </tr>\n",
       "    <tr>\n",
       "      <th>75</th>\n",
       "      <td>е</td>\n",
       "      <td>42519</td>\n",
       "    </tr>\n",
       "    <tr>\n",
       "      <th>78</th>\n",
       "      <td>и</td>\n",
       "      <td>35838</td>\n",
       "    </tr>\n",
       "  </tbody>\n",
       "</table>\n",
       "</div>"
      ],
      "text/plain": [
       "   char_val     sum\n",
       "2            110708\n",
       "84        о   61282\n",
       "70        а   45209\n",
       "75        е   42519\n",
       "78        и   35838"
      ]
     },
     "execution_count": 5,
     "metadata": {},
     "output_type": "execute_result"
    }
   ],
   "source": [
    "orig = make_dict(data_ru)\n",
    "orig.head()"
   ]
  },
  {
   "cell_type": "code",
   "execution_count": 6,
   "metadata": {},
   "outputs": [
    {
     "data": {
      "text/plain": [
       "2      \n",
       "84    о\n",
       "70    а\n",
       "75    е\n",
       "78    и\n",
       "Name: char_val, dtype: object"
      ]
     },
     "execution_count": 6,
     "metadata": {},
     "output_type": "execute_result"
    }
   ],
   "source": [
    "orig.char_val[:5]"
   ]
  },
  {
   "cell_type": "code",
   "execution_count": 7,
   "metadata": {},
   "outputs": [],
   "source": [
    "# df_cnt[df_cnt['char_val'] != ' ']"
   ]
  },
  {
   "cell_type": "code",
   "execution_count": 8,
   "metadata": {},
   "outputs": [],
   "source": [
    "df_new = pd.DataFrame()\n",
    "df_new['real_char'] = orig.char_val\n",
    "df_new = df_new.reset_index()\n",
    "df_new['permutation_char'] = pd.Series(np.random.permutation(orig.char_val))"
   ]
  },
  {
   "cell_type": "code",
   "execution_count": 9,
   "metadata": {},
   "outputs": [
    {
     "data": {
      "text/html": [
       "<div>\n",
       "<style scoped>\n",
       "    .dataframe tbody tr th:only-of-type {\n",
       "        vertical-align: middle;\n",
       "    }\n",
       "\n",
       "    .dataframe tbody tr th {\n",
       "        vertical-align: top;\n",
       "    }\n",
       "\n",
       "    .dataframe thead th {\n",
       "        text-align: right;\n",
       "    }\n",
       "</style>\n",
       "<table border=\"1\" class=\"dataframe\">\n",
       "  <thead>\n",
       "    <tr style=\"text-align: right;\">\n",
       "      <th></th>\n",
       "      <th>real_char</th>\n",
       "      <th>permutation_char</th>\n",
       "    </tr>\n",
       "  </thead>\n",
       "  <tbody>\n",
       "    <tr>\n",
       "      <th>0</th>\n",
       "      <td></td>\n",
       "      <td>ц</td>\n",
       "    </tr>\n",
       "    <tr>\n",
       "      <th>1</th>\n",
       "      <td>о</td>\n",
       "      <td>с</td>\n",
       "    </tr>\n",
       "    <tr>\n",
       "      <th>2</th>\n",
       "      <td>а</td>\n",
       "      <td>v</td>\n",
       "    </tr>\n",
       "  </tbody>\n",
       "</table>\n",
       "</div>"
      ],
      "text/plain": [
       "  real_char permutation_char\n",
       "0                          ц\n",
       "1         о                с\n",
       "2         а                v"
      ]
     },
     "execution_count": 9,
     "metadata": {},
     "output_type": "execute_result"
    }
   ],
   "source": [
    "df_new[['real_char', 'permutation_char']].head(3)"
   ]
  },
  {
   "cell_type": "code",
   "execution_count": 10,
   "metadata": {},
   "outputs": [],
   "source": [
    "coding_dict = df_new.set_index('real_char')['permutation_char'].to_dict()"
   ]
  },
  {
   "cell_type": "code",
   "execution_count": 11,
   "metadata": {},
   "outputs": [],
   "source": [
    "# coding_dict"
   ]
  },
  {
   "cell_type": "code",
   "execution_count": 16,
   "metadata": {},
   "outputs": [
    {
     "name": "stdout",
     "output_type": "stream",
     "text": [
      "«анна каренина» поразила современников «вседневностью содержания» необычайная свобода раскованность повествования удивительно сочетались в этом романе с цельностью художественного взгляда автора на жизнь он выступал здесь как художник и мыслитель и назначение искусства видел «не в том чтобы неоспоримо разрешить вопрос а в том чтобы заставить любить жизнь в бесчисленных никогда не истощимых всех ее проявлениях» 61 1001\n",
      "\n",
      "\n",
      "\n",
      "*vttvц0vmüt“tvмц\n",
      "сmvж“аvцîсzmü\tütt“0сzц*zîüнtüztсîкi…цîснüm'vt“kмцtüсзйjvуtvkцîzсзснvцmvî0сzvttсîкiц\n",
      "сzüîкzсzvt“kцêн“z“кüаitсцîсjüкvа“îiцzцâкс\tцmс\tvtüцîцcüаitсîкi…цbêнс'üîкzüttсюсцzжюаkнvцvzксmvцtvц'“жtiцсtцzйîкê\n",
      "vацжнüîiц0v0цbêнс't“0ц“ц\tйîа“кüаiц“цtvжtvjüt“üц“î0êîîкzvцz“нüац*tüцzцкс\tцjксзйцtüсî\n",
      "сm“\tсцmvжmüо“кiцzс\n",
      "mсîцvцzцкс\tцjксзйцжvîкvz“кiца…з“кiц'“жtiцzцзüîj“îаüttйbцt“0сюнvцtüц“îкс–“\tйbцzîübцüüц\n",
      "mсkzаüt“kbмц.\"ц\"33\"p\n"
     ]
    }
   ],
   "source": [
    "import re\n",
    "\n",
    "regex = re.compile('[%s]' % re.escape(string.punctuation))\n",
    "test_ru = regex.sub('', test_ru)\n",
    "\n",
    "print(test_ru)\n",
    "print('\\n')\n",
    "\n",
    "test_ru_coding = ''.join([coding_dict[test_ru[i]] for i in range(len(test_ru))])\n",
    "\n",
    "print(test_ru_coding)"
   ]
  },
  {
   "cell_type": "code",
   "execution_count": 17,
   "metadata": {},
   "outputs": [],
   "source": [
    "coding = make_dict(list(test_ru_coding))\n",
    "old_new_dep = orig.reset_index().merge(coding.reset_index(), left_index=True, right_index=True)\n",
    "decoding_dict = old_new_dep.set_index('char_val_y')['char_val_x'].to_dict()"
   ]
  },
  {
   "cell_type": "code",
   "execution_count": 35,
   "metadata": {},
   "outputs": [
    {
     "data": {
      "text/html": [
       "<div>\n",
       "<style scoped>\n",
       "    .dataframe tbody tr th:only-of-type {\n",
       "        vertical-align: middle;\n",
       "    }\n",
       "\n",
       "    .dataframe tbody tr th {\n",
       "        vertical-align: top;\n",
       "    }\n",
       "\n",
       "    .dataframe thead th {\n",
       "        text-align: right;\n",
       "    }\n",
       "</style>\n",
       "<table border=\"1\" class=\"dataframe\">\n",
       "  <thead>\n",
       "    <tr style=\"text-align: right;\">\n",
       "      <th></th>\n",
       "      <th>char_val_y</th>\n",
       "      <th>char_val_x</th>\n",
       "    </tr>\n",
       "  </thead>\n",
       "  <tbody>\n",
       "    <tr>\n",
       "      <th>0</th>\n",
       "      <td>«</td>\n",
       "      <td>а</td>\n",
       "    </tr>\n",
       "    <tr>\n",
       "      <th>1</th>\n",
       "      <td>ь</td>\n",
       "      <td>е</td>\n",
       "    </tr>\n",
       "    <tr>\n",
       "      <th>2</th>\n",
       "      <td>л</td>\n",
       "      <td>и</td>\n",
       "    </tr>\n",
       "  </tbody>\n",
       "</table>\n",
       "</div>"
      ],
      "text/plain": [
       "  char_val_y char_val_x\n",
       "0          «          а\n",
       "1          ь          е\n",
       "2          л          и"
      ]
     },
     "execution_count": 35,
     "metadata": {},
     "output_type": "execute_result"
    }
   ],
   "source": [
    "old_new_dep.head(3)\n",
    "#[old_new_dep['char_val_y'] == 'ц']"
   ]
  },
  {
   "cell_type": "code",
   "execution_count": 19,
   "metadata": {},
   "outputs": [
    {
     "name": "stdout",
     "output_type": "stream",
     "text": [
      "«анна каренина» поразила современников «вседневностью содержания» необычайная свобода раскованность повествования удивительно сочетались в этом романе с цельностью художественного взгляда автора на жизнь он выступал здесь как художник и мыслитель и назначение искусства видел «не в том чтобы неоспоримо разрешить вопрос а в том чтобы заставить любить жизнь в бесчисленных никогда не истощимых всех ее проявлениях» 61 1001\n",
      "\n",
      "\n",
      "\n",
      "*vttvц0vmüt“tvмц\n",
      "сmvж“аvцîсzmü\tütt“0сzц*zîüнtüztсîкi…цîснüm'vt“kмцtüсзйjvуtvkцîzсзснvцmvî0сzvttсîкiц\n",
      "сzüîкzсzvt“kцêн“z“кüаitсцîсjüкvа“îiцzцâкс\tцmс\tvtüцîцcüаitсîкi…цbêнс'üîкzüttсюсцzжюаkнvцvzксmvцtvц'“жtiцсtцzйîкê\n",
      "vацжнüîiц0v0цbêнс't“0ц“ц\tйîа“кüаiц“цtvжtvjüt“üц“î0êîîкzvцz“нüац*tüцzцкс\tцjксзйцtüсî\n",
      "сm“\tсцmvжmüо“кiцzс\n",
      "mсîцvцzцкс\tцjксзйцжvîкvz“кiца…з“кiц'“жtiцzцзüîj“îаüttйbцt“0сюнvцtüц“îкс–“\tйbцzîübцüüц\n",
      "mсkzаüt“kbмц.\"ц\"33\"p\n",
      "\n",
      "\n",
      "жиааи уиреанаи\n",
      " ьори,нки тосремеаануос жстедаесаотлвй тодерчианя\n",
      " аеозпгицаия тсозоди ритуосиааотлв ьосетлсосианя бднснлеквао тогеликнтв с iлом ромиае т —екваотлвй ыбдочетлсеаао.о с,.кяди ислори аи чн,ав оа сптлбьик ,детв уиу ыбдочану н мпткнлекв н аи,аигеане нтубттлси сндек жае с лом глозп аеотьорнмо ри,реюнлв соьрот и с лом глозп ,итлиснлв кйзнлв чн,ав с зетгнткеаапы ануо.ди ае нтлоsнмпы стеы ее ьрояскеаняы\n",
      " nш шххшe\n"
     ]
    }
   ],
   "source": [
    "print(test_ru)\n",
    "print('\\n')\n",
    "print(test_ru_coding)\n",
    "print('\\n')\n",
    "\n",
    "test_ru_decoding = ''.join([decoding_dict[test_ru_coding[i]] for i in range(len(test_ru_coding))])\n",
    "\n",
    "print(test_ru_decoding)"
   ]
  },
  {
   "cell_type": "code",
   "execution_count": 20,
   "metadata": {},
   "outputs": [
    {
     "name": "stdout",
     "output_type": "stream",
     "text": [
      "True\n",
      "accuracy:  0.3696682464454976\n"
     ]
    }
   ],
   "source": [
    "print(len(test_ru_decoding) == len(test_ru))\n",
    "\n",
    "count = 0\n",
    "for i in range(len(test_ru)):\n",
    "    if test_ru[i] == test_ru_decoding[i]:\n",
    "        count += 1\n",
    "\n",
    "print('accuracy: ', count/len(test_ru))"
   ]
  },
  {
   "cell_type": "code",
   "execution_count": 21,
   "metadata": {},
   "outputs": [],
   "source": [
    "orig = orig[orig['char_val'] != ' ']\n",
    "orig = orig[orig['char_val'] != '\\n']"
   ]
  },
  {
   "cell_type": "code",
   "execution_count": 22,
   "metadata": {},
   "outputs": [],
   "source": [
    "df_new = pd.DataFrame()\n",
    "df_new['real_char'] = orig.char_val\n",
    "df_new = df_new.reset_index()\n",
    "df_new['permutation_char'] = pd.Series(np.random.permutation(orig.char_val))"
   ]
  },
  {
   "cell_type": "code",
   "execution_count": 23,
   "metadata": {},
   "outputs": [],
   "source": [
    "df_new = df_new[['real_char', 'permutation_char']]"
   ]
  },
  {
   "cell_type": "code",
   "execution_count": 24,
   "metadata": {},
   "outputs": [],
   "source": [
    "row = [' ', ' ']\n",
    "df_new.loc[len(df_new)] = row\n",
    "row = ['\\n', '\\n']\n",
    "df_new.loc[len(df_new)] = row"
   ]
  },
  {
   "cell_type": "code",
   "execution_count": 25,
   "metadata": {},
   "outputs": [],
   "source": [
    "coding_dict = df_new.set_index('real_char')['permutation_char'].to_dict()"
   ]
  },
  {
   "cell_type": "code",
   "execution_count": 26,
   "metadata": {},
   "outputs": [
    {
     "name": "stdout",
     "output_type": "stream",
     "text": [
      "«анна каренина» поразила современников «вседневностью содержания» необычайная свобода раскованность повествования удивительно сочетались в этом романе с цельностью художественного взгляда автора на жизнь он выступал здесь как художник и мыслитель и назначение искусства видел «не в том чтобы неоспоримо разрешить вопрос а в том чтобы заставить любить жизнь в бесчисленных никогда не истощимых всех ее проявлениях» 61 1001\n",
      "\n",
      "\n",
      "\n",
      "чзььз рзrль\"ьз, в«rзç\"аз u«шrлéльь\"р«ш чшuлfьлшь«uäдb u«fлr;зь\"х, ьл«ф5“зoьзх uш«ф«fз rзuр«шзьь«uäд в«шлuäш«шзь\"х nf\"ш\"äладь« u«“лäза\"uд ш —ä«é r«éзьл u \tладь«uäдb яnf«;лuäшльь«z« шçzахfз зшä«rз ьз ;\"çьд «ь ш5uänвза çfлuд рзр яnf«;ь\"р \" é5uа\"äлад \" ьзçьз“ль\"л \"uрnuuäшз ш\"fла чьл ш ä«é “ä«ф5 ьл«uв«r\"é« rзçrли\"äд ш«вr«u з ш ä«é “ä«ф5 çзuäзш\"äд аbф\"äд ;\"çьд ш флu“\"uальь5я ь\"р«zfз ьл \"uä«8\"é5я шuля лл вr«хшаль\"хя, ыб б--б\n",
      "\n"
     ]
    }
   ],
   "source": [
    "print(test_ru)\n",
    "print('\\n')\n",
    "\n",
    "test_ru_coding = ''.join([coding_dict[test_ru[i]] for i in range(len(test_ru))])\n",
    "print(test_ru_coding)"
   ]
  },
  {
   "cell_type": "code",
   "execution_count": 27,
   "metadata": {},
   "outputs": [],
   "source": [
    "coding = make_dict(list(test_ru_coding))\n",
    "old_new_dep = orig.reset_index().merge(coding.reset_index(), left_index=True, right_index=True)"
   ]
  },
  {
   "cell_type": "code",
   "execution_count": 28,
   "metadata": {},
   "outputs": [],
   "source": [
    "old_new_dep = old_new_dep[old_new_dep['char_val_y'] != ' ']\n",
    "old_new_dep = old_new_dep[old_new_dep['char_val_y'] != '\\n']\n",
    "old_new_dep = old_new_dep.reset_index()\n",
    "old_new_dep = old_new_dep[['char_val_y', 'char_val_x']]"
   ]
  },
  {
   "cell_type": "code",
   "execution_count": 29,
   "metadata": {},
   "outputs": [],
   "source": [
    "row = [' ', ' ']\n",
    "old_new_dep.loc[len(old_new_dep)+1] = row"
   ]
  },
  {
   "cell_type": "code",
   "execution_count": 30,
   "metadata": {},
   "outputs": [
    {
     "data": {
      "text/plain": [
       "36"
      ]
     },
     "execution_count": 30,
     "metadata": {},
     "output_type": "execute_result"
    }
   ],
   "source": [
    "len(old_new_dep)"
   ]
  },
  {
   "cell_type": "code",
   "execution_count": 31,
   "metadata": {},
   "outputs": [],
   "source": [
    "row = [' ', ' ']\n",
    "old_new_dep.loc[len(old_new_dep)+1] = row\n",
    "row = ['\\n', '\\n']\n",
    "old_new_dep.loc[len(old_new_dep)+1] = row"
   ]
  },
  {
   "cell_type": "code",
   "execution_count": 32,
   "metadata": {},
   "outputs": [],
   "source": [
    "decoding_dict = old_new_dep.set_index('char_val_y')['char_val_x'].to_dict()"
   ]
  },
  {
   "cell_type": "code",
   "execution_count": 33,
   "metadata": {},
   "outputs": [
    {
     "name": "stdout",
     "output_type": "stream",
     "text": [
      "«анна каренина» поразила современников «вседневностью содержания» необычайная свобода раскованность повествования удивительно сочетались в этом романе с цельностью художественного взгляда автора на жизнь он выступал здесь как художник и мыслитель и назначение искусства видел «не в том чтобы неоспоримо разрешить вопрос а в том чтобы заставить любить жизнь в бесчисленных никогда не истощимых всех ее проявлениях» 61 1001\n",
      "\n",
      "\n",
      "\n",
      "хнеен мндиетенe гаднпткн салдиуиеетмал хлси,еилеасврш са,ид.нетыe еиаьябнnены слаьа,н днсмалнееасвр галисвлалнеты ч,тлтвикреа сабивнктср л aвау даунеи с rикреасврш зч,а.исвлиееажа лпжкы,н нлвадн ен .тпер ае лясвчгнк п,иср мнм зч,а.етм т уясктвикр т енпенбиети тсмчссвлн лт,ик хеи л вау бваья еиасгадтуа днпдицтвр лагдас н л вау бваья пнсвнлтвр кшьтвр .тпер л ьисбтскиееяз етмаж,н еи тсваsтуяз лсиз ии гдаылкиетызe iй й——й\n",
      "\n"
     ]
    }
   ],
   "source": [
    "print(test_ru)\n",
    "print('\\n')\n",
    "# print(test_ru_coding)\n",
    "# print('\\n')\n",
    "\n",
    "test_ru_decoding = ''.join([decoding_dict[test_ru_coding[i]] for i in range(len(test_ru_coding))])\n",
    "print(test_ru_decoding)"
   ]
  },
  {
   "cell_type": "code",
   "execution_count": 34,
   "metadata": {},
   "outputs": [
    {
     "name": "stdout",
     "output_type": "stream",
     "text": [
      "True\n",
      "accuracy:  0.1966824644549763\n"
     ]
    }
   ],
   "source": [
    "print(len(test_ru_decoding) == len(test_ru))\n",
    "\n",
    "count = 0\n",
    "for i in range(len(test_ru)):\n",
    "    if test_ru[i] == test_ru_decoding[i]:\n",
    "        count += 1\n",
    "\n",
    "print('accuracy: ', count/len(test_ru))"
   ]
  },
  {
   "cell_type": "markdown",
   "metadata": {},
   "source": [
    "## Task 2"
   ]
  },
  {
   "cell_type": "code",
   "execution_count": 36,
   "metadata": {},
   "outputs": [],
   "source": [
    "orig = make_dict(data_ru, 1)"
   ]
  },
  {
   "cell_type": "code",
   "execution_count": 37,
   "metadata": {},
   "outputs": [],
   "source": [
    "df_new = pd.DataFrame()\n",
    "df_new['real_char'] = orig.char_val\n",
    "df_new = df_new.reset_index()\n",
    "df_new['permutation_char'] = pd.Series(np.random.permutation(orig.char_val))"
   ]
  },
  {
   "cell_type": "code",
   "execution_count": 38,
   "metadata": {},
   "outputs": [
    {
     "data": {
      "text/html": [
       "<div>\n",
       "<style scoped>\n",
       "    .dataframe tbody tr th:only-of-type {\n",
       "        vertical-align: middle;\n",
       "    }\n",
       "\n",
       "    .dataframe tbody tr th {\n",
       "        vertical-align: top;\n",
       "    }\n",
       "\n",
       "    .dataframe thead th {\n",
       "        text-align: right;\n",
       "    }\n",
       "</style>\n",
       "<table border=\"1\" class=\"dataframe\">\n",
       "  <thead>\n",
       "    <tr style=\"text-align: right;\">\n",
       "      <th></th>\n",
       "      <th>real_char</th>\n",
       "      <th>permutation_char</th>\n",
       "    </tr>\n",
       "  </thead>\n",
       "  <tbody>\n",
       "    <tr>\n",
       "      <th>0</th>\n",
       "      <td></td>\n",
       "      <td>е</td>\n",
       "    </tr>\n",
       "    <tr>\n",
       "      <th>1</th>\n",
       "      <td>о</td>\n",
       "      <td>5</td>\n",
       "    </tr>\n",
       "    <tr>\n",
       "      <th>2</th>\n",
       "      <td>а</td>\n",
       "      <td>m</td>\n",
       "    </tr>\n",
       "  </tbody>\n",
       "</table>\n",
       "</div>"
      ],
      "text/plain": [
       "  real_char permutation_char\n",
       "0                          е\n",
       "1         о                5\n",
       "2         а                m"
      ]
     },
     "execution_count": 38,
     "metadata": {},
     "output_type": "execute_result"
    }
   ],
   "source": [
    "df_new[['real_char', 'permutation_char']].head(3)"
   ]
  },
  {
   "cell_type": "code",
   "execution_count": 39,
   "metadata": {},
   "outputs": [],
   "source": [
    "coding_dict = df_new.set_index('real_char')['permutation_char'].to_dict()"
   ]
  },
  {
   "cell_type": "code",
   "execution_count": 40,
   "metadata": {},
   "outputs": [
    {
     "name": "stdout",
     "output_type": "stream",
     "text": [
      "«анна каренина» поразила современников «вседневностью содержания» необычайная свобода раскованность повествования удивительно сочетались в этом романе с цельностью художественного взгляда автора на жизнь он выступал здесь как художник и мыслитель и назначение искусства видел «не в том чтобы неоспоримо разрешить вопрос а в том чтобы заставить любить жизнь в бесчисленных никогда не истощимых всех ее проявлениях» 61 1001\n",
      "\n",
      "\n",
      "\n",
      "[mîîmе-mí`îгîmhеi5ímjг*mеè5?í`—`îîг-5?е[?è`xî`?î5èuûôеè5x`íчmîгшhеî`5рбвmуîmшеè?5р5xmеímè-5?mîî5èuûеi5?`èu?5?mîгше0xг?гu`*ûî5еè5в`um*гèûе?епu5—еí5—mî`еèеъ`*ûî5èuûôеь0x5ч`èu?`îî5\t5е?j\t*шxmеm?u5ímеîmечгjîûе5îе?бèu0im*еjx`èûе-m-еь0x5чîг-еге—бè*гu`*ûегеîmjîmв`îг`егè-0èèu?mе?гx`*е[î`е?еu5—евu5рбеî`5èi5íг—5еímjí`щгuûе?5ií5èеmе?еu5—евu5рбеjmèum?гuûе*ôргuûечгjîûе?ер`èвгè*`îîбьеîг-5\txmеî`егèu5rг—бье?è`ье``еií5ш?*`îгшьhеnoеovvo(\n"
     ]
    }
   ],
   "source": [
    "print(test_ru)\n",
    "print('\\n')\n",
    "\n",
    "test_ru_coding = ''.join([coding_dict[test_ru[i]] for i in range(len(test_ru))])\n",
    "\n",
    "print(test_ru_coding)"
   ]
  },
  {
   "cell_type": "code",
   "execution_count": 41,
   "metadata": {},
   "outputs": [],
   "source": [
    "orig2 = make_dict(data_ru, 2)"
   ]
  },
  {
   "cell_type": "code",
   "execution_count": 42,
   "metadata": {},
   "outputs": [],
   "source": [
    "# orig2[~orig2.char_val.str.contains(' ')]"
   ]
  },
  {
   "cell_type": "code",
   "execution_count": 43,
   "metadata": {},
   "outputs": [
    {
     "data": {
      "text/plain": [
       "'[mîîmе-mí`îгîmhеi5ímjг*mеè5?í`—`îîг-5?е[?è`xî`?î5èuûôеè5x`íчmîгшhеî`5рбвmуîmшеè?5р5xmеímè-5?mîî5èuûеi5?`èu?5?mîгше0xг?гu`*ûî5еè5в`um*гèûе?епu5—еí5—mî`еèеъ`*ûî5èuûôеь0x5ч`èu?`îî5\\t5е?j\\t*шxmеm?u5ímеîmечгjîûе5îе?бèu0im*еjx`èûе-m-еь0x5чîг-еге—бè*гu`*ûегеîmjîmв`îг`егè-0èèu?mе?гx`*е[î`е?еu5—евu5рбеî`5èi5íг—5еímjí`щгuûе?5ií5èеmе?еu5—евu5рбеjmèum?гuûе*ôргuûечгjîûе?ер`èвгè*`îîбьеîг-5\\txmеî`егèu5rг—бье?è`ье``еií5ш?*`îгшьhеnoеovvo('"
      ]
     },
     "execution_count": 43,
     "metadata": {},
     "output_type": "execute_result"
    }
   ],
   "source": [
    "test_ru_coding"
   ]
  },
  {
   "cell_type": "code",
   "execution_count": 44,
   "metadata": {},
   "outputs": [],
   "source": [
    "coding = make_dict(list([test_ru_coding]), 2)"
   ]
  },
  {
   "cell_type": "code",
   "execution_count": 45,
   "metadata": {},
   "outputs": [],
   "source": [
    "old_new_dep = orig2.reset_index().merge(coding.reset_index(), left_index=True, right_index=True)\n",
    "decoding_dict = old_new_dep.set_index('char_val_y')['char_val_x'].to_dict()"
   ]
  },
  {
   "cell_type": "code",
   "execution_count": 46,
   "metadata": {},
   "outputs": [
    {
     "name": "stdout",
     "output_type": "stream",
     "text": [
      "«анна каренина» поразила современников «вседневностью содержания» необычайная свобода раскованность повествования удивительно сочетались в этом романе с цельностью художественного взгляда автора на жизнь он выступал здесь как художник и мыслитель и назначение искусства видел «не в том чтобы неоспоримо разрешить вопрос а в том чтобы заставить любить жизнь в бесчисленных никогда не истощимых всех ее проявлениях» 61 1001\n",
      "\n",
      "\n",
      "\n",
      "муго, одот в оровоь шасвнанеотт голанеакетх а этпое да— ондналнироа ноизий онятынота, ь м неал и по вомо ппр м внязаныст базре— асомк те ссои олоссяа наин базпое дав илви пмого греадедая, ави ь то, ойеро бе с.\n",
      "я,тв ргркао од чв илы лакооб.\n",
      "к ск. котоен оас вя овидож д, орон рыля  ки олдоно еа повоглвылоенота,е  судосог,  ки олдоно еый павсто крмее чтдеве сискарури нсий  ввасп, а ко пшить у сатй и, тоски з во,рорысекуее\n"
     ]
    }
   ],
   "source": [
    "print(test_ru)\n",
    "print('\\n')\n",
    "# print(test_ru_coding)\n",
    "# print('\\n')\n",
    "\n",
    "test_ru_decoding = ''.join([decoding_dict[test_ru_coding[2*i:2*i+2]] for i in range(len(test_ru_coding)//2)])\n",
    "print(test_ru_decoding)"
   ]
  },
  {
   "cell_type": "code",
   "execution_count": 47,
   "metadata": {},
   "outputs": [
    {
     "name": "stdout",
     "output_type": "stream",
     "text": [
      "True\n",
      "accuracy:  0.08293838862559241\n"
     ]
    }
   ],
   "source": [
    "print(len(test_ru_decoding) == len(test_ru))\n",
    "\n",
    "count = 0\n",
    "for i in range(len(test_ru)):\n",
    "    if test_ru[i] == test_ru_decoding[i]:\n",
    "        count += 1\n",
    "\n",
    "print('accuracy: ', count/len(test_ru))"
   ]
  }
 ],
 "metadata": {
  "kernelspec": {
   "display_name": "Python 3",
   "language": "python",
   "name": "python3"
  },
  "language_info": {
   "codemirror_mode": {
    "name": "ipython",
    "version": 3
   },
   "file_extension": ".py",
   "mimetype": "text/x-python",
   "name": "python",
   "nbconvert_exporter": "python",
   "pygments_lexer": "ipython3",
   "version": "3.7.2"
  }
 },
 "nbformat": 4,
 "nbformat_minor": 4
}
