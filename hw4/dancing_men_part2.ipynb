{
 "cells": [
  {
   "cell_type": "code",
   "execution_count": 1,
   "metadata": {},
   "outputs": [],
   "source": [
    "import numpy as np\n",
    "from sklearn.feature_extraction.text import CountVectorizer\n",
    "import pandas as pd\n",
    "import string\n",
    "import math\n",
    "import random"
   ]
  },
  {
   "cell_type": "code",
   "execution_count": 2,
   "metadata": {},
   "outputs": [],
   "source": [
    "def make_dict(data_ru, num=1):\n",
    "    cv = CountVectorizer(data_ru, ngram_range=(num, num), analyzer='char')\n",
    "    count_vector = cv.fit_transform(data_ru)\n",
    "\n",
    "    #dict CountVectorizer\n",
    "    df = pd.DataFrame(cv.vocabulary_.items())\n",
    "    df.columns = ['char_val', 'ind']\n",
    "    cols = df.sort_values(by='ind').char_val.tolist()\n",
    "\n",
    "    #data\n",
    "    df_cv = pd.DataFrame(count_vector.todense())\n",
    "    df_cv.columns = cols\n",
    "    \n",
    "    dict_cnt = dict()\n",
    "    for col in df_cv.columns:\n",
    "        dict_cnt[col] = df_cv[col].sum()\n",
    "\n",
    "    df_cnt = pd.DataFrame(dict_cnt.items())\n",
    "    df_cnt.columns = ['char_val', 'sum']\n",
    "    df_cnt = df_cnt.sort_values(by='sum', ascending=False)\n",
    "    return df_cnt"
   ]
  },
  {
   "cell_type": "code",
   "execution_count": 3,
   "metadata": {},
   "outputs": [],
   "source": [
    "with open('corpora/WarAndPeace.txt', 'r', encoding=\"utf8\") as file:\n",
    "    data_ru = file.readlines()\n",
    "    file.close()"
   ]
  },
  {
   "cell_type": "code",
   "execution_count": 4,
   "metadata": {
    "scrolled": true
   },
   "outputs": [
    {
     "data": {
      "text/plain": [
       "['а', 'б', 'в', 'г', 'д']"
      ]
     },
     "execution_count": 4,
     "metadata": {},
     "output_type": "execute_result"
    }
   ],
   "source": [
    "list('абвгдеёжзийклмнопрстуфхцчшщъыьэюя')[0:5]"
   ]
  },
  {
   "cell_type": "markdown",
   "metadata": {},
   "source": [
    "Код основан на статье \n",
    "via http://probability.ca/jeff/ftpdir/decipherart.pdf"
   ]
  },
  {
   "cell_type": "code",
   "execution_count": 28,
   "metadata": {},
   "outputs": [],
   "source": [
    "def make_cipher_dict(data_ru):\n",
    "    dict_cipher = {}\n",
    "    alphabet = list('абвгдеёжзийклмнопрстуфхцчшщъыьэюя')\n",
    "    #print(type(data_ru))\n",
    "    for i in range(len(data_ru)):\n",
    "        dict_cipher[alphabet[i]] = data_ru[i]\n",
    "    return dict_cipher\n",
    "\n",
    "def apply_cipher_on_text(text, coding):\n",
    "    cipher_dict = make_cipher_dict(coding) \n",
    "    text = list(text)\n",
    "    coding_text = ''\n",
    "    for elem in text:\n",
    "        if elem.lower() in cipher_dict:\n",
    "            coding_text += cipher_dict[elem.lower()]\n",
    "        else:\n",
    "            coding_text += ' '\n",
    "    return coding_text"
   ]
  },
  {
   "cell_type": "code",
   "execution_count": 37,
   "metadata": {},
   "outputs": [],
   "source": [
    "# def make_cnt_dict(path):\n",
    "#     dict_cnt = {}\n",
    "#     alphabet_list = list('абвгдеёжзийклмнопрстуфхцчшщъыьэюя')\n",
    "#     with open(path, 'r', encoding=\"utf8\") as file:\n",
    "#         for line in file:\n",
    "#             data = list(line.strip())\n",
    "#             for i in range(len(data)-1):\n",
    "                \n",
    "#                 bigram1 = data[i].lower()\n",
    "#                 bigram2 = data[i+1].lower()\n",
    "                \n",
    "#                 if bigram1 not in alphabet_list:\n",
    "#                     bigram1 = \" \"\n",
    "                \n",
    "#                 if bigram2 not in alphabet_list:\n",
    "#                     bigram2 = \" \"\n",
    "                \n",
    "#                 bigram = bigram1 + bigram2\n",
    "                \n",
    "#                 if bigram in dict_cnt:\n",
    "#                     dict_cnt[bigram] += 1\n",
    "#                 else:\n",
    "#                     dict_cnt[bigram] = 1\n",
    "#     return dict_cnt\n",
    "\n",
    "\n",
    "def make_cnt_dict(text):\n",
    "    dict_cnt = {}\n",
    "    alphabet = list('абвгдеёжзийклмнопрстуфхцчшщъыьэюя')\n",
    "    data = list(text.strip())\n",
    "    for i in range(len(data)-1):\n",
    "        bigram1 = data[i].lower()\n",
    "        bigram2 = data[i+1].lower()\n",
    "        if bigram1 not in alphabet:\n",
    "            bigram1 = \" \"\n",
    "        if bigram2 not in alphabet:\n",
    "            bigram2 = \" \"\n",
    "        bigram = bigram1 + bigram2\n",
    "        if bigram in dict_cnt:\n",
    "            dict_cnt[bigram] += 1\n",
    "        else:\n",
    "            dict_cnt[bigram] = 1\n",
    "    return dict_cnt\n",
    "\n",
    "def get_score(text,cipher,scoring_params):\n",
    "    cipher_dict = make_cipher_dict(cipher)\n",
    "    decrypted_text = apply_cipher_on_text(text,cipher)\n",
    "    scored = make_cnt_dict(decrypted_text)\n",
    "    cipher_score = 0\n",
    "    for k,v in scored.items():\n",
    "        if k in scoring_params:\n",
    "            cipher_score += v * math.log(scoring_params[k])\n",
    "    return cipher_score"
   ]
  },
  {
   "cell_type": "code",
   "execution_count": 38,
   "metadata": {},
   "outputs": [],
   "source": [
    "def generate_cipher(cipher):\n",
    "    pos1 = random.randint(0, len(list(cipher))-1)\n",
    "    pos2 = random.randint(0, len(list(cipher))-1)\n",
    "    \n",
    "    if pos1 == pos2:\n",
    "        return generate_cipher(cipher)\n",
    "    else:\n",
    "        #меняем местами символы\n",
    "        cipher = list(cipher)\n",
    "        char1 = cipher[pos1]\n",
    "        char2 = cipher[pos2]\n",
    "        \n",
    "        cipher[pos1] = char2\n",
    "        cipher[pos2] = char1\n",
    "        return \"\".join(cipher)"
   ]
  },
  {
   "cell_type": "code",
   "execution_count": 39,
   "metadata": {},
   "outputs": [],
   "source": [
    "def MCMC_decrypt(num_iter, cipher_text, params):\n",
    "    curr_decode = 'абвгдеёжзийклмнопрстуфхцчшщъыьэюя'\n",
    "    states_set = set()\n",
    "    best_state = ''\n",
    "    score = 0\n",
    "    for i in range(num_iter):\n",
    "        states_set.add(curr_decode)\n",
    "        \n",
    "        new_decode = generate_cipher(curr_decode)\n",
    "#         print(i, new_decode)\n",
    "        \n",
    "        curr_score = get_score(cipher_text, curr_decode, params)\n",
    "        \n",
    "        new_score = get_score(cipher_text, new_decode, params)\n",
    "        \n",
    "        prob = min(1, math.exp(new_score-curr_score) )\n",
    "        \n",
    "        if curr_score > score:\n",
    "            best_state = curr_decode\n",
    "\n",
    "        if prob >= random.uniform(0,1):\n",
    "            curr_decode = new_decode\n",
    "        \n",
    "        if i % 500 == 0:\n",
    "            print(\"iter\",i,\":\",apply_cipher_on_text(cipher_text,curr_decode)[0:99])\n",
    "            \n",
    "    return states_set, best_state"
   ]
  },
  {
   "cell_type": "code",
   "execution_count": 11,
   "metadata": {},
   "outputs": [],
   "source": [
    "with open('corpora/WarAndPeace.txt', 'r', encoding=\"utf8\") as file:\n",
    "    data_ru = file.readlines()\n",
    "    file.close()"
   ]
  },
  {
   "cell_type": "code",
   "execution_count": 12,
   "metadata": {},
   "outputs": [],
   "source": [
    "# scoring_params = make_cnt_dict('corpora/WarAndPeace.txt')"
   ]
  },
  {
   "cell_type": "code",
   "execution_count": 13,
   "metadata": {},
   "outputs": [],
   "source": [
    "scoring_params = make_dict(data_ru).set_index('char_val')['sum'].to_dict()"
   ]
  },
  {
   "cell_type": "raw",
   "metadata": {},
   "source": [
    "{'  ': 65863,\n",
    " ' в': 9493,\n",
    " 'во': 4474,\n",
    " 'ой': 2296,\n",
    " 'йн': 217,\n",
    " 'на': 6546,\n",
    " 'а ': 10663,\n",
    " ' и': 6756,\n",
    " 'и ': 11425,\n",
    " ' м': 3646,"
   ]
  },
  {
   "cell_type": "code",
   "execution_count": 13,
   "metadata": {},
   "outputs": [],
   "source": [
    "with open('corpora/AnnaKarenina.txt', 'r', encoding=\"utf8\") as file:\n",
    "    ex = file.readlines()\n",
    "    file.close()\n",
    "    \n",
    "test_ru = ex[30].lower()"
   ]
  },
  {
   "cell_type": "code",
   "execution_count": 14,
   "metadata": {},
   "outputs": [],
   "source": [
    "plain_text = test_ru"
   ]
  },
  {
   "cell_type": "code",
   "execution_count": 15,
   "metadata": {},
   "outputs": [
    {
     "name": "stdout",
     "output_type": "stream",
     "text": [
      "чъкязыдцэотсаьмфигщжпюйблврхнёшеу\n"
     ]
    }
   ],
   "source": [
    "out = ''\n",
    "for el in np.random.permutation(list('абвгдеёжзийклмнопрстуфхцчшщъыьэюя')):\n",
    "    out += el\n",
    "print(out)"
   ]
  },
  {
   "cell_type": "code",
   "execution_count": 29,
   "metadata": {},
   "outputs": [],
   "source": [
    "encryption_key = \"бкюэщшпьнуеёйрвлзхдсгымцтжъофчяиа\"\n",
    "cipher_text = apply_cipher_on_text(plain_text, encryption_key)"
   ]
  },
  {
   "cell_type": "code",
   "execution_count": 30,
   "metadata": {},
   "outputs": [
    {
     "data": {
      "text/plain": [
       "'«анна каренина» поразила современников «вседневностью содержания». необычайная свобода, раскованность повествования удивительно сочетались в этом романе с цельностью художественного взгляда автора на жизнь. он выступал здесь как художник и мыслитель и назначение искусства видел «не в том, чтобы неоспоримо разрешить вопрос, а в том, чтобы заставить любить жизнь в бесчисленных, никогда не истощимых всех ее проявлениях» (61, 100).[1]\\n'"
      ]
     },
     "execution_count": 30,
     "metadata": {},
     "output_type": "execute_result"
    }
   ],
   "source": [
    "plain_text"
   ]
  },
  {
   "cell_type": "code",
   "execution_count": 44,
   "metadata": {},
   "outputs": [
    {
     "name": "stdout",
     "output_type": "stream",
     "text": [
      "ньщучеъёжврксшхадиэзбпяйюлцымгтоф\n"
     ]
    }
   ],
   "source": [
    "out = ''\n",
    "for el in np.random.permutation(list('абвгдеёжзийклмнопрстуфхцчшщъыьэюя')):\n",
    "    out += el\n",
    "print(out)"
   ]
  },
  {
   "cell_type": "code",
   "execution_count": 156,
   "metadata": {},
   "outputs": [
    {
     "name": "stdout",
     "output_type": "stream",
     "text": [
      "Text To Decode:  бввб ёбхшвувб  злхбнуйб длюхшршввуёлю  юдшщвшювлдсчи длщшхьбвуа   вшлкфтбевба дюлклщб  хбдёлюбввлдсч злюшдсюлюбвуа гщуюусшйчвл длтшсбйудч ю яслр хлрбвш д цшйчвлдсчи мгщльшдсюшввлэл юнэйащб бюслхб вб ьунвч  лв юфдсгзбй нщшдч ёбё мгщльвуё у рфдйусшйч у вбнвбтшвуш удёгддсюб юущшй  вш ю слр  тслкф вшлдзлхурл хбнхшжусч юлзхлд  б ю слр  тслкф нбдсбюусч йикусч ьунвч ю кшдтудйшввфм  вуёлэщб вш удслъурфм юдшм шш зхлаюйшвуам                \n",
      "\n",
      "\n",
      "iter 0 :  бввб ёбхшвувб  злхбнугб длюхшршввуёлю  юдшщвшювлдсчи длщшхьбвуа   вшлкфтбевба дюлклщб  хбдёлюбввлд\n",
      "iter 500 :  овво тогуваво  пегозако лебгудувватеб  блурвубвелись леругчоваю   вуемнжойвою лбемеро  голтебоввел\n",
      "iter 1000 :  уссу муносасу  пенузаду левнотоссамев  влорсовселкиь лерончусая   соебыгуйсуя лвеберу  нулмевуссел\n",
      "iter 1500 :  анна маденуна  чодазула совдереннумов  всетневноский сотедгануя   необыпаьная свобота  дасмованнос\n",
      "iter 2000 :  анна паренуна  чоразула совреденнупов  всетневноскию сотержануя   необымайная свобота  распованнос\n",
      "iter 2500 :  анна маренина  поразила совреденнимов  всетневноскую сотершания   необыжайная свобота  расмованнос\n",
      "iter 3000 :  анна маренина  поразила совреденнимов  всекневностую сокержания   необычаьная свобока  расмованнос\n",
      "iter 3500 :  анна каренина  поразила современников  вседневностую содержания   необычашная свобода  раскованнос\n",
      "iter 4000 :  анна каренина  поразила современников  вседневностую содержания   необычайная свобода  раскованнос\n",
      "iter 4500 :  анна каренина  поразила современников  вседневностью содержания   необычацная свобода  раскованнос\n",
      "iter 5000 :  анна каренина  поразила современников  вседневностью содержания   необычауная свобода  раскованнос\n",
      "iter 5500 :  анна каренина  поразила современников  вседневностью содержания   необычашная свобода  раскованнос\n",
      "iter 6000 :  анна каренина  поразила современников  вседневностью содержания   необычайная свобода  раскованнос\n",
      "iter 6500 :  анна каренина  поразила современников  вседневностью содержания   необычайная свобода  раскованнос\n",
      "iter 7000 :  анна каренина  поразила современников  вседневностью содержания   необычайная свобода  раскованнос\n",
      "iter 7500 :  анна каренина  поразила современников  вседневностью содержания   необычайная свобода  раскованнос\n",
      "iter 8000 :  анна каренина  поразила современников  вседневностью содержания   необычайная свобода  раскованнос\n",
      "iter 8500 :  анна каренина  поразила современников  вседневностью содержания   необычайная свобода  раскованнос\n",
      "iter 9000 :  анна каренина  поразила современников  вседневностью содержания   необычайная свобода  раскованнос\n",
      "iter 9500 :  анна каренина  поразила современников  вседневностью содержания   необычайная свобода  раскованнос\n",
      "\n",
      "\n",
      "Decoded Text:  анна каренина  поразила современников  вседневностью содержания   необычайная свобода  раскованность повествования удивительно сочетались в этом романе с цельностью художественного взгляда автора на жизнь  он выступал здесь как художник и мыслитель и назначение искусства видел  не в том  чтобы неоспоримо разрещить вопрос  а в том  чтобы заставить любить жизнь в бесчисленных  никогда не истошимых всех ее проявлениях                \n",
      "\n",
      "\n",
      "MCMC KEY FOUND: яанусйкщпюлбохзъфмтчиырцьедшёжгвэ\n",
      "ACTUAL DECRYPTION KEY: кдслывшхубфжъйнзёэемюотаищчяьгцрп\n"
     ]
    }
   ],
   "source": [
    "decryption_key = \"кдслывшхубфжъйнзёэемюотаищчяьгцрп\"\n",
    "\n",
    "print(\"Text To Decode:\", cipher_text)\n",
    "print(\"\\n\")\n",
    "states,best_state = MCMC_decrypt(10000,cipher_text,scoring_params)\n",
    "print(\"\\n\")\n",
    "print(\"Decoded Text:\", apply_cipher_on_text(cipher_text,best_state))\n",
    "print(\"\\n\")\n",
    "print(\"MCMC KEY FOUND:\", best_state)\n",
    "print(\"ACTUAL DECRYPTION KEY:\", decryption_key)"
   ]
  },
  {
   "cell_type": "code",
   "execution_count": 157,
   "metadata": {},
   "outputs": [
    {
     "data": {
      "text/plain": [
       "'«анна каренина» поразила современников «вседневностью содержания». необычайная свобода, раскованность повествования удивительно сочетались в этом романе с цельностью художественного взгляда автора на жизнь. он выступал здесь как художник и мыслитель и назначение искусства видел «не в том, чтобы неоспоримо разрешить вопрос, а в том, чтобы заставить любить жизнь в бесчисленных, никогда не истощимых всех ее проявлениях» (61, 100).[1]\\n'"
      ]
     },
     "execution_count": 157,
     "metadata": {},
     "output_type": "execute_result"
    }
   ],
   "source": [
    "test_ru"
   ]
  },
  {
   "cell_type": "code",
   "execution_count": 159,
   "metadata": {},
   "outputs": [
    {
     "name": "stdout",
     "output_type": "stream",
     "text": [
      "True\n",
      "accuracy:  0.9356321839080459\n"
     ]
    }
   ],
   "source": [
    "test_ru_decoding = apply_cipher_on_text(cipher_text,best_state)\n",
    "print(len(test_ru_decoding) == len(test_ru))\n",
    "\n",
    "count = 0\n",
    "for i in range(len(test_ru)):\n",
    "    if test_ru[i] == test_ru_decoding[i]:\n",
    "        count += 1\n",
    "\n",
    "print('accuracy: ', count/len(test_ru))"
   ]
  },
  {
   "cell_type": "markdown",
   "metadata": {},
   "source": [
    "### Task 4"
   ]
  },
  {
   "cell_type": "code",
   "execution_count": 95,
   "metadata": {},
   "outputs": [],
   "source": [
    "cipher_text2 = '←⇠⇒↟↹↷⇊↹↷↟↤↟↨←↹↝⇛⇯↳⇴⇒⇈↝⇊↾↹↟⇒↟↹⇷⇛⇞↨↟↹↝⇛⇯↳⇴⇒⇈↝⇊↾↹↨←⇌⇠↨↹⇙↹⇸↨⇛↙⇛↹⇠⇛⇛↲⇆←↝↟↞↹⇌⇛↨⇛⇯⇊↾↹⇒←↙⇌⇛↹⇷⇯⇛⇞↟↨⇴↨⇈↹⇠⇌⇛⇯←←↹↷⇠←↙⇛↹↷⇊↹↷⇠←↹⇠↤←⇒⇴⇒↟↹⇷⇯⇴↷↟⇒⇈↝⇛↹↟↹⇷⇛⇒⇙⇞↟↨←↹↳⇴⇌⇠↟↳⇴⇒⇈↝⇊↾↹↲⇴⇒⇒↹⇰⇴↹⇷⇛⇠⇒←↤↝←←↹⇞←↨↷←⇯↨⇛←↹⇰⇴↤⇴↝↟←↹⇌⇙⇯⇠⇴↹↘⇛↨↞↹⇌⇛↝←⇞↝⇛↹↞↹↝↟⇞←↙⇛↹↝←↹⇛↲←⇆⇴⇏'"
   ]
  },
  {
   "cell_type": "code",
   "execution_count": 96,
   "metadata": {},
   "outputs": [
    {
     "data": {
      "text/plain": [
       "230"
      ]
     },
     "execution_count": 96,
     "metadata": {},
     "output_type": "execute_result"
    }
   ],
   "source": [
    "len(cipher_text2)"
   ]
  },
  {
   "cell_type": "code",
   "execution_count": 98,
   "metadata": {},
   "outputs": [
    {
     "data": {
      "text/plain": [
       "'←⇠⇒↟↹↷⇊↹↷↟↤↟↨←↹↝⇛⇯↳⇴⇒⇈↝⇊↾↹↟⇒↟↹⇷⇛⇞↨↟↹↝⇛⇯↳⇴⇒⇈↝⇊↾↹↨←⇌⇠↨↹⇙↹⇸↨⇛↙⇛↹⇠⇛⇛↲⇆←↝↟↞↹⇌⇛↨⇛⇯⇊↾↹⇒←↙⇌⇛↹⇷⇯⇛⇞↟↨⇴↨⇈↹⇠⇌⇛⇯←←↹↷⇠←↙⇛↹↷⇊↹↷⇠←↹⇠↤←⇒⇴⇒↟↹⇷⇯⇴↷↟⇒⇈↝⇛↹↟↹⇷⇛⇒⇙⇞↟↨←↹↳⇴⇌⇠↟↳⇴⇒⇈↝⇊↾↹↲⇴⇒⇒↹⇰⇴↹⇷⇛⇠⇒←↤↝←←↹⇞←↨↷←⇯↨⇛←↹⇰⇴↤⇴↝↟←↹⇌⇙⇯⇠⇴↹↘⇛↨↞↹⇌⇛↝←⇞↝⇛↹↞↹↝↟⇞←↙⇛↹↝←↹⇛↲←⇆⇴⇏'"
      ]
     },
     "execution_count": 98,
     "metadata": {},
     "output_type": "execute_result"
    }
   ],
   "source": [
    "cipher_text2"
   ]
  },
  {
   "cell_type": "code",
   "execution_count": 102,
   "metadata": {},
   "outputs": [],
   "source": [
    "cipher_text2 = cipher_text2.replace('↹', ' ')"
   ]
  },
  {
   "cell_type": "code",
   "execution_count": 104,
   "metadata": {},
   "outputs": [],
   "source": [
    "orig = make_dict(list(cipher_text2))"
   ]
  },
  {
   "cell_type": "code",
   "execution_count": 113,
   "metadata": {},
   "outputs": [],
   "source": [
    "orig['enc'] = pd.Series(list(' абвгдежзиклмнопрстуфхцчшщюя'))"
   ]
  },
  {
   "cell_type": "code",
   "execution_count": 116,
   "metadata": {},
   "outputs": [],
   "source": [
    "coding_dict = orig.set_index('char_val')['enc'].to_dict()"
   ]
  },
  {
   "cell_type": "code",
   "execution_count": 117,
   "metadata": {},
   "outputs": [
    {
     "data": {
      "text/plain": [
       "'ацте лп лежеза гфчкщтогпм ете юфхзе гфчкщтогпм зарцз у язфвф цффинагед рфзфчпм таврф ючфхезщзо црфчаа лцавф лп лца цжатщте ючщлетогф е юфтухеза кщрцекщтогпм ищтт шщ юфцтажгаа хазлачзфа шщжщгеа ручцщ бфзд рфгахгф д гехавф га фианщс'"
      ]
     },
     "execution_count": 117,
     "metadata": {},
     "output_type": "execute_result"
    }
   ],
   "source": [
    "test_ru_coding = ''.join([coding_dict[cipher_text2[i]] for i in range(len(cipher_text2))])\n",
    "test_ru_coding"
   ]
  },
  {
   "cell_type": "code",
   "execution_count": 129,
   "metadata": {},
   "outputs": [
    {
     "name": "stdout",
     "output_type": "stream",
     "text": [
      "iter 0 : атце лп лежеза гфчкщцогпм еце юфхзе гфчкщцогпм зартз у язфвф тффинагед рфзфчпм цаврф ючфхезщзо трфч\n",
      "iter 500 : нтал чя члулен иовьсашиях лал зодел иовьсашиях енкте р цеого тообынилю коеовях ангко зводлесеш тков\n",
      "iter 1000 : ерал ды длулне товьсаятых лал зогнл товьсаятых некрн и жномо рообчетлю коновых аемко звоглнсня рков\n",
      "iter 1500 : ерла ды даиане товьслятый ала зочна товьслятый непрн у жномо рообгетаю поновый лемпо звочансня рпов\n",
      "iter 2000 : ерла ды даюате новсульный ала гочта новсульный тепрт и этомо роожценая потовый лемпо гвочатуть рпов\n",
      "iter 2500 : ерла вы важате нодсильный ала гочта нодсильный тепрт у этомо рообшеная потодый лемпо гдочатить рпод\n",
      "iter 3000 : ерла вы вазате нодмильный ала гочта нодмильный тепрт у этосо рообщеная потодый леспо гдочатить рпод\n",
      "iter 3500 : ерли вы вимите нодкальный или гочти нодкальный тепрт у этосо рообщения потодый леспо гдочитать рпод\n",
      "iter 4000 : ерли вы вимите нодкальный или гочти нодкальный тепрт у этосо рообцения потодый леспо гдочитать рпод\n",
      "iter 4500 : если вы вимите нодпальный или гочти нодпальный текст у эторо сообжения котодый лерко гдочитать скод\n",
      "iter 5000 : если вы вимите нодзальный или гочти нодзальный текст у этопо сооржения котодый лепко гдочитать скод\n",
      "iter 5500 : если вы вимите нодпальный или гочти нодпальный текст у эторо соозжения котодый лерко гдочитать скод\n",
      "iter 6000 : если вы вимите нодкальный или гочти нодкальный тепст у эторо соожбения потодый лерпо гдочитать спод\n",
      "iter 6500 : если вы вимите нодхальный или гочти нодхальный текст у эторо соожбения котодый лерко гдочитать скод\n",
      "iter 7000 : если вы вимите норшальный или почти норшальный текст у этодо сообщения который ледко прочитать скор\n",
      "iter 7500 : если вы видите норжальный или почти норжальный текст у этомо сообщения который лемко прочитать скор\n",
      "iter 8000 : если вы видите норжальный или помти норжальный текст у этого сообщения который легко промитать скор\n",
      "iter 8500 : если вы вимите норзальный или подти норзальный текст у этого сообщения который легко продитать скор\n",
      "iter 9000 : если вы вимите норкальный или почти норкальный тедст у этого сообщения доторый легдо прочитать сдор\n",
      "iter 9500 : если вы вимите норчальный или подти норчальный текст у этого сообщения который легко продитать скор\n"
     ]
    }
   ],
   "source": [
    "states, best_state = MCMC_decrypt(10000,test_ru_coding,scoring_params)"
   ]
  },
  {
   "cell_type": "code",
   "execution_count": 140,
   "metadata": {},
   "outputs": [
    {
     "data": {
      "text/plain": [
       "'если вы видите нормальный или почти нормальный текст у этого сообщения который легко прочитать скорее всего вы все сделали правильно и получите максимальный балл за последнее четвертое задание курса хотя конечно я ничего не обещаю'"
      ]
     },
     "execution_count": 140,
     "metadata": {},
     "output_type": "execute_result"
    }
   ],
   "source": [
    "apply_cipher_on_text(test_ru_coding, 'ехгняиъдтбюмвйщьыкюлуочсрзажфёцпэ')"
   ]
  },
  {
   "cell_type": "raw",
   "metadata": {},
   "source": [
    "# 'если вы видите нормальный или почти нормальный текст у этого сообщения который легко прочитать скорее всего вы все сделали правильно и получите максимальный балл за последнее четвертое задание курса хотя конечно я ничего не обещаю'"
   ]
  }
 ],
 "metadata": {
  "kernelspec": {
   "display_name": "Python 3",
   "language": "python",
   "name": "python3"
  },
  "language_info": {
   "codemirror_mode": {
    "name": "ipython",
    "version": 3
   },
   "file_extension": ".py",
   "mimetype": "text/x-python",
   "name": "python",
   "nbconvert_exporter": "python",
   "pygments_lexer": "ipython3",
   "version": "3.7.2"
  }
 },
 "nbformat": 4,
 "nbformat_minor": 4
}
